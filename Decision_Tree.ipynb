{
  "nbformat": 4,
  "nbformat_minor": 0,
  "metadata": {
    "colab": {
      "name": "Decision Tree.ipynb",
      "provenance": [],
      "authorship_tag": "ABX9TyP7KuoXBG7+T4zwxfZNOoch",
      "include_colab_link": true
    },
    "kernelspec": {
      "name": "python3",
      "display_name": "Python 3"
    }
  },
  "cells": [
    {
      "cell_type": "markdown",
      "metadata": {
        "id": "view-in-github",
        "colab_type": "text"
      },
      "source": [
        "<a href=\"https://colab.research.google.com/github/chandraSekar123/ML_Deployment_Django/blob/master/Decision_Tree.ipynb\" target=\"_parent\"><img src=\"https://colab.research.google.com/assets/colab-badge.svg\" alt=\"Open In Colab\"/></a>"
      ]
    },
    {
      "cell_type": "code",
      "metadata": {
        "id": "eStHaLYFbT6_",
        "colab_type": "code",
        "colab": {}
      },
      "source": [
        "\n",
        "import itertools\n",
        "import numpy as np\n",
        "import pandas as pd\n",
        "import matplotlib.pyplot as plt\n",
        "from pandas import DataFrame, Series\n",
        "from IPython.display import Image\n",
        "try:\n",
        "    from StringIO import StringIO\n",
        "except ImportError:\n",
        "    from io import StringIO\n",
        "import pydotplus\n",
        "from sklearn import preprocessing\n",
        "from sklearn import tree\n",
        "%matplotlib inline"
      ],
      "execution_count": 0,
      "outputs": []
    },
    {
      "cell_type": "code",
      "metadata": {
        "id": "culPQPi-bX7I",
        "colab_type": "code",
        "colab": {}
      },
      "source": [
        "def plot_decision_tree(clf,feature_name,target_name):\n",
        "    dot_data = StringIO()  \n",
        "    tree.export_graphviz(clf, out_file=dot_data,  \n",
        "                         feature_names=feature_name,  \n",
        "                         class_names=target_name,  \n",
        "                         filled=True, rounded=True,  \n",
        "                         special_characters=True)  \n",
        "    graph = pydotplus.graph_from_dot_data(dot_data.getvalue())  \n",
        "    return Image(graph.create_png())"
      ],
      "execution_count": 0,
      "outputs": []
    },
    {
      "cell_type": "code",
      "metadata": {
        "id": "0ha9--B-bbjm",
        "colab_type": "code",
        "colab": {}
      },
      "source": [
        "df = pd.read_csv(\"decisiontree.csv\")\n"
      ],
      "execution_count": 0,
      "outputs": []
    },
    {
      "cell_type": "code",
      "metadata": {
        "id": "o7VkEnCXcK-p",
        "colab_type": "code",
        "outputId": "73b34de0-5c07-465a-ba85-9805be7da86a",
        "colab": {
          "base_uri": "https://localhost:8080/",
          "height": 204
        }
      },
      "source": [
        "df.head()\n"
      ],
      "execution_count": 0,
      "outputs": [
        {
          "output_type": "execute_result",
          "data": {
            "text/html": [
              "<div>\n",
              "<style scoped>\n",
              "    .dataframe tbody tr th:only-of-type {\n",
              "        vertical-align: middle;\n",
              "    }\n",
              "\n",
              "    .dataframe tbody tr th {\n",
              "        vertical-align: top;\n",
              "    }\n",
              "\n",
              "    .dataframe thead th {\n",
              "        text-align: right;\n",
              "    }\n",
              "</style>\n",
              "<table border=\"1\" class=\"dataframe\">\n",
              "  <thead>\n",
              "    <tr style=\"text-align: right;\">\n",
              "      <th></th>\n",
              "      <th>Score</th>\n",
              "      <th>Pass</th>\n",
              "    </tr>\n",
              "  </thead>\n",
              "  <tbody>\n",
              "    <tr>\n",
              "      <th>0</th>\n",
              "      <td>1</td>\n",
              "      <td>0</td>\n",
              "    </tr>\n",
              "    <tr>\n",
              "      <th>1</th>\n",
              "      <td>2</td>\n",
              "      <td>0</td>\n",
              "    </tr>\n",
              "    <tr>\n",
              "      <th>2</th>\n",
              "      <td>3</td>\n",
              "      <td>0</td>\n",
              "    </tr>\n",
              "    <tr>\n",
              "      <th>3</th>\n",
              "      <td>4</td>\n",
              "      <td>0</td>\n",
              "    </tr>\n",
              "    <tr>\n",
              "      <th>4</th>\n",
              "      <td>5</td>\n",
              "      <td>0</td>\n",
              "    </tr>\n",
              "  </tbody>\n",
              "</table>\n",
              "</div>"
            ],
            "text/plain": [
              "   Score  Pass\n",
              "0      1     0\n",
              "1      2     0\n",
              "2      3     0\n",
              "3      4     0\n",
              "4      5     0"
            ]
          },
          "metadata": {
            "tags": []
          },
          "execution_count": 23
        }
      ]
    },
    {
      "cell_type": "code",
      "metadata": {
        "id": "vOhfc88rcMty",
        "colab_type": "code",
        "outputId": "f77c6dee-06ac-4126-c1d0-24ea2f03f93f",
        "colab": {
          "base_uri": "https://localhost:8080/",
          "height": 204
        }
      },
      "source": [
        "df.tail()\n",
        "\n"
      ],
      "execution_count": 0,
      "outputs": [
        {
          "output_type": "execute_result",
          "data": {
            "text/html": [
              "<div>\n",
              "<style scoped>\n",
              "    .dataframe tbody tr th:only-of-type {\n",
              "        vertical-align: middle;\n",
              "    }\n",
              "\n",
              "    .dataframe tbody tr th {\n",
              "        vertical-align: top;\n",
              "    }\n",
              "\n",
              "    .dataframe thead th {\n",
              "        text-align: right;\n",
              "    }\n",
              "</style>\n",
              "<table border=\"1\" class=\"dataframe\">\n",
              "  <thead>\n",
              "    <tr style=\"text-align: right;\">\n",
              "      <th></th>\n",
              "      <th>Score</th>\n",
              "      <th>Pass</th>\n",
              "    </tr>\n",
              "  </thead>\n",
              "  <tbody>\n",
              "    <tr>\n",
              "      <th>95</th>\n",
              "      <td>96</td>\n",
              "      <td>1</td>\n",
              "    </tr>\n",
              "    <tr>\n",
              "      <th>96</th>\n",
              "      <td>97</td>\n",
              "      <td>1</td>\n",
              "    </tr>\n",
              "    <tr>\n",
              "      <th>97</th>\n",
              "      <td>98</td>\n",
              "      <td>1</td>\n",
              "    </tr>\n",
              "    <tr>\n",
              "      <th>98</th>\n",
              "      <td>99</td>\n",
              "      <td>1</td>\n",
              "    </tr>\n",
              "    <tr>\n",
              "      <th>99</th>\n",
              "      <td>100</td>\n",
              "      <td>1</td>\n",
              "    </tr>\n",
              "  </tbody>\n",
              "</table>\n",
              "</div>"
            ],
            "text/plain": [
              "    Score  Pass\n",
              "95     96     1\n",
              "96     97     1\n",
              "97     98     1\n",
              "98     99     1\n",
              "99    100     1"
            ]
          },
          "metadata": {
            "tags": []
          },
          "execution_count": 24
        }
      ]
    },
    {
      "cell_type": "code",
      "metadata": {
        "id": "koFcI__LcORm",
        "colab_type": "code",
        "colab": {}
      },
      "source": [
        "X_train = df.loc[:, df.columns != 'Pass']\n",
        "Y_train = df.Pass"
      ],
      "execution_count": 0,
      "outputs": []
    },
    {
      "cell_type": "code",
      "metadata": {
        "id": "PutR0FpReIun",
        "colab_type": "code",
        "outputId": "b2fd80f9-d79d-44e4-cc7e-6fd01df007a9",
        "colab": {
          "base_uri": "https://localhost:8080/",
          "height": 34
        }
      },
      "source": [
        "Y_train.unique()"
      ],
      "execution_count": 0,
      "outputs": [
        {
          "output_type": "execute_result",
          "data": {
            "text/plain": [
              "array([0, 1])"
            ]
          },
          "metadata": {
            "tags": []
          },
          "execution_count": 40
        }
      ]
    },
    {
      "cell_type": "code",
      "metadata": {
        "id": "Spi3KrtJdpd7",
        "colab_type": "code",
        "outputId": "cef14000-139c-4407-c655-e13e7a89bd1f",
        "colab": {
          "base_uri": "https://localhost:8080/",
          "height": 68
        }
      },
      "source": [
        "## chandra code for checking the logic\n",
        "count=len(Y_train)\n",
        "col_values=Y_train.unique()\n",
        "def chandra_entropy(df,targetcol):\n",
        "  total_entro=0\n",
        "  for i in col_values:\n",
        "\n",
        "    \n",
        "    len1=len(df[df[targetcol]==i])\n",
        "    ent1=-len1/count*np.log2(len1/count)\n",
        "    print(i,len1,count,ent1)\n",
        "    total_entro=total_entro+ ent1\n",
        "  return total_entro\n",
        "\n",
        "\n",
        "\n",
        "\n",
        "chandra_entropy(df,\"Pass\")"
      ],
      "execution_count": 0,
      "outputs": [
        {
          "output_type": "stream",
          "text": [
            "0 39 100 0.5297970486558657\n",
            "1 61 100 0.43500249984922146\n"
          ],
          "name": "stdout"
        },
        {
          "output_type": "execute_result",
          "data": {
            "text/plain": [
              "0.9647995485050872"
            ]
          },
          "metadata": {
            "tags": []
          },
          "execution_count": 65
        }
      ]
    },
    {
      "cell_type": "code",
      "metadata": {
        "id": "m_BsfykocQsV",
        "colab_type": "code",
        "colab": {}
      },
      "source": [
        "\n",
        "def entropy(target_col):\n",
        "    elements, counts = np.unique(target_col, return_counts=True)\n",
        "    for (e, c) in zip(elements, counts):\n",
        "        print(\"Node has {} elements of Class {}\".format(c, e))\n",
        "    entropy = np.sum(\n",
        "        [\n",
        "            (-counts[i] / np.sum(counts)) * np.log2(counts[i] / np.sum(counts))\n",
        "            for i in range(len(elements))\n",
        "        ]\n",
        "    )\n",
        "    return entropy"
      ],
      "execution_count": 0,
      "outputs": []
    },
    {
      "cell_type": "code",
      "metadata": {
        "id": "Xy2Rbm8LcS_O",
        "colab_type": "code",
        "outputId": "8063845d-1eb7-4cc4-8651-53986449822d",
        "colab": {
          "base_uri": "https://localhost:8080/",
          "height": 68
        }
      },
      "source": [
        "entropy_before_split = entropy(df.Pass)\n",
        "print (\"Initial Entropy = {}\".format(entropy_before_split))"
      ],
      "execution_count": 0,
      "outputs": [
        {
          "output_type": "stream",
          "text": [
            "Node has 39 elements of Class 0\n",
            "Node has 61 elements of Class 1\n",
            "Initial Entropy = 0.9647995485050872\n"
          ],
          "name": "stdout"
        }
      ]
    },
    {
      "cell_type": "code",
      "metadata": {
        "id": "VweU08C8c4z0",
        "colab_type": "code",
        "colab": {}
      },
      "source": [
        ""
      ],
      "execution_count": 0,
      "outputs": []
    },
    {
      "cell_type": "code",
      "metadata": {
        "id": "CF8iQC85ca1Z",
        "colab_type": "code",
        "outputId": "e6fb8892-d1af-4dc6-d1c0-b501ca8de741",
        "colab": {
          "base_uri": "https://localhost:8080/",
          "height": 170
        }
      },
      "source": [
        "\n",
        "split_values = np.arange(1.5,100,1)\n",
        "split_values"
      ],
      "execution_count": 0,
      "outputs": [
        {
          "output_type": "execute_result",
          "data": {
            "text/plain": [
              "array([ 1.5,  2.5,  3.5,  4.5,  5.5,  6.5,  7.5,  8.5,  9.5, 10.5, 11.5,\n",
              "       12.5, 13.5, 14.5, 15.5, 16.5, 17.5, 18.5, 19.5, 20.5, 21.5, 22.5,\n",
              "       23.5, 24.5, 25.5, 26.5, 27.5, 28.5, 29.5, 30.5, 31.5, 32.5, 33.5,\n",
              "       34.5, 35.5, 36.5, 37.5, 38.5, 39.5, 40.5, 41.5, 42.5, 43.5, 44.5,\n",
              "       45.5, 46.5, 47.5, 48.5, 49.5, 50.5, 51.5, 52.5, 53.5, 54.5, 55.5,\n",
              "       56.5, 57.5, 58.5, 59.5, 60.5, 61.5, 62.5, 63.5, 64.5, 65.5, 66.5,\n",
              "       67.5, 68.5, 69.5, 70.5, 71.5, 72.5, 73.5, 74.5, 75.5, 76.5, 77.5,\n",
              "       78.5, 79.5, 80.5, 81.5, 82.5, 83.5, 84.5, 85.5, 86.5, 87.5, 88.5,\n",
              "       89.5, 90.5, 91.5, 92.5, 93.5, 94.5, 95.5, 96.5, 97.5, 98.5, 99.5])"
            ]
          },
          "metadata": {
            "tags": []
          },
          "execution_count": 28
        }
      ]
    },
    {
      "cell_type": "code",
      "metadata": {
        "id": "PSn6XVvuccV4",
        "colab_type": "code",
        "colab": {}
      },
      "source": [
        "left_node_data = df.loc[df.Score < split_values[0]]\n",
        "right_node_data = df.loc[df.Score > split_values[0]]"
      ],
      "execution_count": 0,
      "outputs": []
    },
    {
      "cell_type": "code",
      "metadata": {
        "id": "YmaCBqp5cfyK",
        "colab_type": "code",
        "outputId": "d02d214a-fcca-4acd-f1ad-12a5bcfe2a3b",
        "colab": {
          "base_uri": "https://localhost:8080/",
          "height": 80
        }
      },
      "source": [
        "left_node_data"
      ],
      "execution_count": 0,
      "outputs": [
        {
          "output_type": "execute_result",
          "data": {
            "text/html": [
              "<div>\n",
              "<style scoped>\n",
              "    .dataframe tbody tr th:only-of-type {\n",
              "        vertical-align: middle;\n",
              "    }\n",
              "\n",
              "    .dataframe tbody tr th {\n",
              "        vertical-align: top;\n",
              "    }\n",
              "\n",
              "    .dataframe thead th {\n",
              "        text-align: right;\n",
              "    }\n",
              "</style>\n",
              "<table border=\"1\" class=\"dataframe\">\n",
              "  <thead>\n",
              "    <tr style=\"text-align: right;\">\n",
              "      <th></th>\n",
              "      <th>Score</th>\n",
              "      <th>Pass</th>\n",
              "    </tr>\n",
              "  </thead>\n",
              "  <tbody>\n",
              "    <tr>\n",
              "      <th>0</th>\n",
              "      <td>1</td>\n",
              "      <td>0</td>\n",
              "    </tr>\n",
              "  </tbody>\n",
              "</table>\n",
              "</div>"
            ],
            "text/plain": [
              "   Score  Pass\n",
              "0      1     0"
            ]
          },
          "metadata": {
            "tags": []
          },
          "execution_count": 30
        }
      ]
    },
    {
      "cell_type": "code",
      "metadata": {
        "id": "5qyChEqbcg5M",
        "colab_type": "code",
        "outputId": "c39cf0df-0ecd-4c28-8784-91bbb6b10223",
        "colab": {
          "base_uri": "https://localhost:8080/",
          "height": 419
        }
      },
      "source": [
        "right_node_data\n",
        "\n"
      ],
      "execution_count": 0,
      "outputs": [
        {
          "output_type": "execute_result",
          "data": {
            "text/html": [
              "<div>\n",
              "<style scoped>\n",
              "    .dataframe tbody tr th:only-of-type {\n",
              "        vertical-align: middle;\n",
              "    }\n",
              "\n",
              "    .dataframe tbody tr th {\n",
              "        vertical-align: top;\n",
              "    }\n",
              "\n",
              "    .dataframe thead th {\n",
              "        text-align: right;\n",
              "    }\n",
              "</style>\n",
              "<table border=\"1\" class=\"dataframe\">\n",
              "  <thead>\n",
              "    <tr style=\"text-align: right;\">\n",
              "      <th></th>\n",
              "      <th>Score</th>\n",
              "      <th>Pass</th>\n",
              "    </tr>\n",
              "  </thead>\n",
              "  <tbody>\n",
              "    <tr>\n",
              "      <th>1</th>\n",
              "      <td>2</td>\n",
              "      <td>0</td>\n",
              "    </tr>\n",
              "    <tr>\n",
              "      <th>2</th>\n",
              "      <td>3</td>\n",
              "      <td>0</td>\n",
              "    </tr>\n",
              "    <tr>\n",
              "      <th>3</th>\n",
              "      <td>4</td>\n",
              "      <td>0</td>\n",
              "    </tr>\n",
              "    <tr>\n",
              "      <th>4</th>\n",
              "      <td>5</td>\n",
              "      <td>0</td>\n",
              "    </tr>\n",
              "    <tr>\n",
              "      <th>5</th>\n",
              "      <td>6</td>\n",
              "      <td>0</td>\n",
              "    </tr>\n",
              "    <tr>\n",
              "      <th>...</th>\n",
              "      <td>...</td>\n",
              "      <td>...</td>\n",
              "    </tr>\n",
              "    <tr>\n",
              "      <th>95</th>\n",
              "      <td>96</td>\n",
              "      <td>1</td>\n",
              "    </tr>\n",
              "    <tr>\n",
              "      <th>96</th>\n",
              "      <td>97</td>\n",
              "      <td>1</td>\n",
              "    </tr>\n",
              "    <tr>\n",
              "      <th>97</th>\n",
              "      <td>98</td>\n",
              "      <td>1</td>\n",
              "    </tr>\n",
              "    <tr>\n",
              "      <th>98</th>\n",
              "      <td>99</td>\n",
              "      <td>1</td>\n",
              "    </tr>\n",
              "    <tr>\n",
              "      <th>99</th>\n",
              "      <td>100</td>\n",
              "      <td>1</td>\n",
              "    </tr>\n",
              "  </tbody>\n",
              "</table>\n",
              "<p>99 rows × 2 columns</p>\n",
              "</div>"
            ],
            "text/plain": [
              "    Score  Pass\n",
              "1       2     0\n",
              "2       3     0\n",
              "3       4     0\n",
              "4       5     0\n",
              "5       6     0\n",
              "..    ...   ...\n",
              "95     96     1\n",
              "96     97     1\n",
              "97     98     1\n",
              "98     99     1\n",
              "99    100     1\n",
              "\n",
              "[99 rows x 2 columns]"
            ]
          },
          "metadata": {
            "tags": []
          },
          "execution_count": 31
        }
      ]
    },
    {
      "cell_type": "code",
      "metadata": {
        "id": "z5wKjb01ciFH",
        "colab_type": "code",
        "colab": {}
      },
      "source": [
        "def calc_info_gain_numeric(df, left, right, entropy_before_split, split_values):\n",
        "    print(\"Split Value = {} \\n\".format(split_values))\n",
        "    total_elements = df.shape[0]\n",
        "    print(\"Left Node\")\n",
        "    ent_left = entropy(left)\n",
        "    print(\"Entropy of Left Node {} \\n\".format(ent_left))\n",
        "    print(\"Right Node\")\n",
        "    ent_right = entropy(right)\n",
        "    print(\"Entropy of Right Node {} \\n\".format(ent_right))\n",
        "    weighted_entropy = ((left.shape[0] / total_elements) * ent_left) + (\n",
        "        (right.shape[0] / total_elements) * ent_right\n",
        "    )\n",
        "    info_gain = entropy_before_split - weighted_entropy\n",
        "    print(\"Info gain at split {} is {} \\n\".format(split_values, info_gain))\n",
        "    return info_gain"
      ],
      "execution_count": 0,
      "outputs": []
    },
    {
      "cell_type": "code",
      "metadata": {
        "id": "CFnU5N0wckGK",
        "colab_type": "code",
        "outputId": "e7faefc4-f781-427a-ea8a-e638b97be205",
        "colab": {
          "base_uri": "https://localhost:8080/",
          "height": 255
        }
      },
      "source": [
        "calc_info_gain_numeric(\n",
        "    df, left_node_data.Pass, right_node_data.Pass, entropy_before_split, split_values[0]\n",
        ")"
      ],
      "execution_count": 0,
      "outputs": [
        {
          "output_type": "stream",
          "text": [
            "Split Value = 1.5 \n",
            "\n",
            "Left Node\n",
            "Node has 1 elements of Class 0\n",
            "Entropy of Left Node 0.0 \n",
            "\n",
            "Right Node\n",
            "Node has 38 elements of Class 0\n",
            "Node has 61 elements of Class 1\n",
            "Entropy of Right Node 0.9607079018756469 \n",
            "\n",
            "Info gain at split 1.5 is 0.013698725648196741 \n",
            "\n"
          ],
          "name": "stdout"
        },
        {
          "output_type": "execute_result",
          "data": {
            "text/plain": [
              "0.013698725648196741"
            ]
          },
          "metadata": {
            "tags": []
          },
          "execution_count": 33
        }
      ]
    },
    {
      "cell_type": "code",
      "metadata": {
        "id": "H3drxMmpcmyo",
        "colab_type": "code",
        "outputId": "64559c3a-f541-4941-e2e4-a3cb08c7cb08",
        "colab": {
          "base_uri": "https://localhost:8080/",
          "height": 1000
        }
      },
      "source": [
        "\n",
        "info_gains = []\n",
        "for sp_value in split_values:\n",
        "    left_data = df.loc[df.Score < sp_value]\n",
        "    right_data = df.loc[df.Score > sp_value]\n",
        "    info_gains.append(\n",
        "        calc_info_gain_numeric(\n",
        "            df, left_data.Pass, right_data.Pass, entropy_before_split, sp_value\n",
        "        )\n",
        "    )"
      ],
      "execution_count": 0,
      "outputs": [
        {
          "output_type": "stream",
          "text": [
            "Split Value = 1.5 \n",
            "\n",
            "Left Node\n",
            "Node has 1 elements of Class 0\n",
            "Entropy of Left Node 0.0 \n",
            "\n",
            "Right Node\n",
            "Node has 38 elements of Class 0\n",
            "Node has 61 elements of Class 1\n",
            "Entropy of Right Node 0.9607079018756469 \n",
            "\n",
            "Info gain at split 1.5 is 0.013698725648196741 \n",
            "\n",
            "Split Value = 2.5 \n",
            "\n",
            "Left Node\n",
            "Node has 2 elements of Class 0\n",
            "Entropy of Left Node 0.0 \n",
            "\n",
            "Right Node\n",
            "Node has 37 elements of Class 0\n",
            "Node has 61 elements of Class 1\n",
            "Entropy of Right Node 0.9562940061600327 \n",
            "\n",
            "Info gain at split 2.5 is 0.02763142246825523 \n",
            "\n",
            "Split Value = 3.5 \n",
            "\n",
            "Left Node\n",
            "Node has 3 elements of Class 0\n",
            "Entropy of Left Node 0.0 \n",
            "\n",
            "Right Node\n",
            "Node has 36 elements of Class 0\n",
            "Node has 61 elements of Class 1\n",
            "Entropy of Right Node 0.9515388458648667 \n",
            "\n",
            "Info gain at split 3.5 is 0.04180686801616651 \n",
            "\n",
            "Split Value = 4.5 \n",
            "\n",
            "Left Node\n",
            "Node has 4 elements of Class 0\n",
            "Entropy of Left Node 0.0 \n",
            "\n",
            "Right Node\n",
            "Node has 35 elements of Class 0\n",
            "Node has 61 elements of Class 1\n",
            "Entropy of Right Node 0.9464220508835532 \n",
            "\n",
            "Info gain at split 4.5 is 0.056234379656876166 \n",
            "\n",
            "Split Value = 5.5 \n",
            "\n",
            "Left Node\n",
            "Node has 5 elements of Class 0\n",
            "Entropy of Left Node 0.0 \n",
            "\n",
            "Right Node\n",
            "Node has 34 elements of Class 0\n",
            "Node has 61 elements of Class 1\n",
            "Entropy of Right Node 0.9409217747114994 \n",
            "\n",
            "Info gain at split 5.5 is 0.07092386252916283 \n",
            "\n",
            "Split Value = 6.5 \n",
            "\n",
            "Left Node\n",
            "Node has 6 elements of Class 0\n",
            "Entropy of Left Node 0.0 \n",
            "\n",
            "Right Node\n",
            "Node has 33 elements of Class 0\n",
            "Node has 61 elements of Class 1\n",
            "Entropy of Right Node 0.9350145588035413 \n",
            "\n",
            "Info gain at split 6.5 is 0.08588586322975844 \n",
            "\n",
            "Split Value = 7.5 \n",
            "\n",
            "Left Node\n",
            "Node has 7 elements of Class 0\n",
            "Entropy of Left Node 0.0 \n",
            "\n",
            "Right Node\n",
            "Node has 32 elements of Class 0\n",
            "Node has 61 elements of Class 1\n",
            "Entropy of Right Node 0.9286751810936652 \n",
            "\n",
            "Info gain at split 7.5 is 0.10113163008797854 \n",
            "\n",
            "Split Value = 8.5 \n",
            "\n",
            "Left Node\n",
            "Node has 8 elements of Class 0\n",
            "Entropy of Left Node 0.0 \n",
            "\n",
            "Right Node\n",
            "Node has 31 elements of Class 0\n",
            "Node has 61 elements of Class 1\n",
            "Entropy of Right Node 0.921876486346913 \n",
            "\n",
            "Info gain at split 8.5 is 0.11667318106592717 \n",
            "\n",
            "Split Value = 9.5 \n",
            "\n",
            "Left Node\n",
            "Node has 9 elements of Class 0\n",
            "Entropy of Left Node 0.0 \n",
            "\n",
            "Right Node\n",
            "Node has 30 elements of Class 0\n",
            "Node has 61 elements of Class 1\n",
            "Entropy of Right Node 0.9145891955877994 \n",
            "\n",
            "Info gain at split 9.5 is 0.13252338052018975 \n",
            "\n",
            "Split Value = 10.5 \n",
            "\n",
            "Left Node\n",
            "Node has 10 elements of Class 0\n",
            "Entropy of Left Node 0.0 \n",
            "\n",
            "Right Node\n",
            "Node has 29 elements of Class 0\n",
            "Node has 61 elements of Class 1\n",
            "Entropy of Right Node 0.9067816913292784 \n",
            "\n",
            "Info gain at split 10.5 is 0.14869602630873657 \n",
            "\n",
            "Split Value = 11.5 \n",
            "\n",
            "Left Node\n",
            "Node has 11 elements of Class 0\n",
            "Entropy of Left Node 0.0 \n",
            "\n",
            "Right Node\n",
            "Node has 28 elements of Class 0\n",
            "Node has 61 elements of Class 1\n",
            "Entropy of Right Node 0.8984197746860721 \n",
            "\n",
            "Info gain at split 11.5 is 0.16520594903448294 \n",
            "\n",
            "Split Value = 12.5 \n",
            "\n",
            "Left Node\n",
            "Node has 12 elements of Class 0\n",
            "Entropy of Left Node 0.0 \n",
            "\n",
            "Right Node\n",
            "Node has 27 elements of Class 0\n",
            "Node has 61 elements of Class 1\n",
            "Entropy of Right Node 0.8894663896628685 \n",
            "\n",
            "Info gain at split 12.5 is 0.18206912560176292 \n",
            "\n",
            "Split Value = 13.5 \n",
            "\n",
            "Left Node\n",
            "Node has 13 elements of Class 0\n",
            "Entropy of Left Node 0.0 \n",
            "\n",
            "Right Node\n",
            "Node has 26 elements of Class 0\n",
            "Node has 61 elements of Class 1\n",
            "Entropy of Right Node 0.8798813089176425 \n",
            "\n",
            "Info gain at split 13.5 is 0.1993028097467382 \n",
            "\n",
            "Split Value = 14.5 \n",
            "\n",
            "Left Node\n",
            "Node has 14 elements of Class 0\n",
            "Entropy of Left Node 0.0 \n",
            "\n",
            "Right Node\n",
            "Node has 25 elements of Class 0\n",
            "Node has 61 elements of Class 1\n",
            "Entropy of Right Node 0.8696207740543749 \n",
            "\n",
            "Info gain at split 14.5 is 0.2169256828183248 \n",
            "\n",
            "Split Value = 15.5 \n",
            "\n",
            "Left Node\n",
            "Node has 15 elements of Class 0\n",
            "Entropy of Left Node 0.0 \n",
            "\n",
            "Right Node\n",
            "Node has 24 elements of Class 0\n",
            "Node has 61 elements of Class 1\n",
            "Entropy of Right Node 0.8586370819183629 \n",
            "\n",
            "Info gain at split 15.5 is 0.2349580288744788 \n",
            "\n",
            "Split Value = 16.5 \n",
            "\n",
            "Left Node\n",
            "Node has 16 elements of Class 0\n",
            "Entropy of Left Node 0.0 \n",
            "\n",
            "Right Node\n",
            "Node has 23 elements of Class 0\n",
            "Node has 61 elements of Class 1\n",
            "Entropy of Right Node 0.8468781063424822 \n",
            "\n",
            "Info gain at split 16.5 is 0.2534219391774022 \n",
            "\n",
            "Split Value = 17.5 \n",
            "\n",
            "Left Node\n",
            "Node has 17 elements of Class 0\n",
            "Entropy of Left Node 0.0 \n",
            "\n",
            "Right Node\n",
            "Node has 22 elements of Class 0\n",
            "Node has 61 elements of Class 1\n",
            "Entropy of Right Node 0.8342867421739537 \n",
            "\n",
            "Info gain at split 17.5 is 0.2723415525007057 \n",
            "\n",
            "Split Value = 18.5 \n",
            "\n",
            "Left Node\n",
            "Node has 18 elements of Class 0\n",
            "Entropy of Left Node 0.0 \n",
            "\n",
            "Right Node\n",
            "Node has 21 elements of Class 0\n",
            "Node has 61 elements of Class 1\n",
            "Entropy of Right Node 0.8208002549877175 \n",
            "\n",
            "Info gain at split 18.5 is 0.29174333941515895 \n",
            "\n",
            "Split Value = 19.5 \n",
            "\n",
            "Left Node\n",
            "Node has 19 elements of Class 0\n",
            "Entropy of Left Node 0.0 \n",
            "\n",
            "Right Node\n",
            "Node has 20 elements of Class 0\n",
            "Node has 61 elements of Class 1\n",
            "Entropy of Right Node 0.8063495153650777 \n",
            "\n",
            "Info gain at split 19.5 is 0.3116564410593742 \n",
            "\n",
            "Split Value = 20.5 \n",
            "\n",
            "Left Node\n",
            "Node has 20 elements of Class 0\n",
            "Entropy of Left Node 0.0 \n",
            "\n",
            "Right Node\n",
            "Node has 19 elements of Class 0\n",
            "Node has 61 elements of Class 1\n",
            "Entropy of Right Node 0.79085809055281 \n",
            "\n",
            "Info gain at split 20.5 is 0.33211307606283913 \n",
            "\n",
            "Split Value = 21.5 \n",
            "\n",
            "Left Node\n",
            "Node has 21 elements of Class 0\n",
            "Entropy of Left Node 0.0 \n",
            "\n",
            "Right Node\n",
            "Node has 18 elements of Class 0\n",
            "Node has 61 elements of Class 1\n",
            "Entropy of Right Node 0.7742411580847272 \n",
            "\n",
            "Info gain at split 21.5 is 0.35314903361815275 \n",
            "\n",
            "Split Value = 22.5 \n",
            "\n",
            "Left Node\n",
            "Node has 22 elements of Class 0\n",
            "Entropy of Left Node 0.0 \n",
            "\n",
            "Right Node\n",
            "Node has 17 elements of Class 0\n",
            "Node has 61 elements of Class 1\n",
            "Entropy of Right Node 0.7564041945982505 \n",
            "\n",
            "Info gain at split 22.5 is 0.37480427671845185 \n",
            "\n",
            "Split Value = 23.5 \n",
            "\n",
            "Left Node\n",
            "Node has 23 elements of Class 0\n",
            "Entropy of Left Node 0.0 \n",
            "\n",
            "Right Node\n",
            "Node has 16 elements of Class 0\n",
            "Node has 61 elements of Class 1\n",
            "Entropy of Right Node 0.7372413771710563 \n",
            "\n",
            "Info gain at split 23.5 is 0.39712368808337384 \n",
            "\n",
            "Split Value = 24.5 \n",
            "\n",
            "Left Node\n",
            "Node has 24 elements of Class 0\n",
            "Entropy of Left Node 0.0 \n",
            "\n",
            "Right Node\n",
            "Node has 15 elements of Class 0\n",
            "Node has 61 elements of Class 1\n",
            "Entropy of Right Node 0.7166336117927454 \n",
            "\n",
            "Info gain at split 24.5 is 0.4201580035426007 \n",
            "\n",
            "Split Value = 25.5 \n",
            "\n",
            "Left Node\n",
            "Node has 25 elements of Class 0\n",
            "Entropy of Left Node 0.0 \n",
            "\n",
            "Right Node\n",
            "Node has 14 elements of Class 0\n",
            "Node has 61 elements of Class 1\n",
            "Entropy of Right Node 0.6944460704939805 \n",
            "\n",
            "Info gain at split 25.5 is 0.4439649956346018 \n",
            "\n",
            "Split Value = 26.5 \n",
            "\n",
            "Left Node\n",
            "Node has 26 elements of Class 0\n",
            "Entropy of Left Node 0.0 \n",
            "\n",
            "Right Node\n",
            "Node has 13 elements of Class 0\n",
            "Node has 61 elements of Class 1\n",
            "Entropy of Right Node 0.6705250693158381 \n",
            "\n",
            "Info gain at split 26.5 is 0.468610997211367 \n",
            "\n",
            "Split Value = 27.5 \n",
            "\n",
            "Left Node\n",
            "Node has 27 elements of Class 0\n",
            "Entropy of Left Node 0.0 \n",
            "\n",
            "Right Node\n",
            "Node has 12 elements of Class 0\n",
            "Node has 61 elements of Class 1\n",
            "Entropy of Right Node 0.644694043811662 \n",
            "\n",
            "Info gain at split 27.5 is 0.494172896522574 \n",
            "\n",
            "Split Value = 28.5 \n",
            "\n",
            "Left Node\n",
            "Node has 28 elements of Class 0\n",
            "Entropy of Left Node 0.0 \n",
            "\n",
            "Right Node\n",
            "Node has 11 elements of Class 0\n",
            "Node has 61 elements of Class 1\n",
            "Entropy of Right Node 0.616748259826391 \n",
            "\n",
            "Info gain at split 28.5 is 0.5207408014300856 \n",
            "\n",
            "Split Value = 29.5 \n",
            "\n",
            "Left Node\n",
            "Node has 29 elements of Class 0\n",
            "Entropy of Left Node 0.0 \n",
            "\n",
            "Right Node\n",
            "Node has 10 elements of Class 0\n",
            "Node has 61 elements of Class 1\n",
            "Entropy of Right Node 0.5864477034453908 \n",
            "\n",
            "Info gain at split 29.5 is 0.5484216790588599 \n",
            "\n",
            "Split Value = 30.5 \n",
            "\n",
            "Left Node\n",
            "Node has 30 elements of Class 0\n",
            "Entropy of Left Node 0.0 \n",
            "\n",
            "Right Node\n",
            "Node has 9 elements of Class 0\n",
            "Node has 61 elements of Class 1\n",
            "Entropy of Right Node 0.5535072654547253 \n",
            "\n",
            "Info gain at split 30.5 is 0.5773444626867795 \n",
            "\n",
            "Split Value = 31.5 \n",
            "\n",
            "Left Node\n",
            "Node has 31 elements of Class 0\n",
            "Entropy of Left Node 0.0 \n",
            "\n",
            "Right Node\n",
            "Node has 8 elements of Class 0\n",
            "Node has 61 elements of Class 1\n",
            "Entropy of Right Node 0.5175827525559072 \n",
            "\n",
            "Info gain at split 31.5 is 0.6076674492415113 \n",
            "\n",
            "Split Value = 32.5 \n",
            "\n",
            "Left Node\n",
            "Node has 32 elements of Class 0\n",
            "Entropy of Left Node 0.0 \n",
            "\n",
            "Right Node\n",
            "Node has 7 elements of Class 0\n",
            "Node has 61 elements of Class 1\n",
            "Entropy of Right Node 0.4782501641071145 \n",
            "\n",
            "Info gain at split 32.5 is 0.6395894369122492 \n",
            "\n",
            "Split Value = 33.5 \n",
            "\n",
            "Left Node\n",
            "Node has 33 elements of Class 0\n",
            "Entropy of Left Node 0.0 \n",
            "\n",
            "Right Node\n",
            "Node has 6 elements of Class 0\n",
            "Node has 61 elements of Class 1\n",
            "Entropy of Right Node 0.4349734800747426 \n",
            "\n",
            "Info gain at split 33.5 is 0.6733673168550096 \n",
            "\n",
            "Split Value = 34.5 \n",
            "\n",
            "Left Node\n",
            "Node has 34 elements of Class 0\n",
            "Entropy of Left Node 0.0 \n",
            "\n",
            "Right Node\n",
            "Node has 5 elements of Class 0\n",
            "Node has 61 elements of Class 1\n",
            "Entropy of Right Node 0.38705142139219784 \n",
            "\n",
            "Info gain at split 34.5 is 0.7093456103862366 \n",
            "\n",
            "Split Value = 35.5 \n",
            "\n",
            "Left Node\n",
            "Node has 35 elements of Class 0\n",
            "Entropy of Left Node 0.0 \n",
            "\n",
            "Right Node\n",
            "Node has 4 elements of Class 0\n",
            "Node has 61 elements of Class 1\n",
            "Entropy of Right Node 0.33352200393097664 \n",
            "\n",
            "Info gain at split 35.5 is 0.7480102459499524 \n",
            "\n",
            "Split Value = 36.5 \n",
            "\n",
            "Left Node\n",
            "Node has 36 elements of Class 0\n",
            "Entropy of Left Node 0.0 \n",
            "\n",
            "Right Node\n",
            "Node has 3 elements of Class 0\n",
            "Node has 61 elements of Class 1\n",
            "Entropy of Right Node 0.27297085791406983 \n",
            "\n",
            "Info gain at split 36.5 is 0.7900981994400825 \n",
            "\n",
            "Split Value = 37.5 \n",
            "\n",
            "Left Node\n",
            "Node has 37 elements of Class 0\n",
            "Entropy of Left Node 0.0 \n",
            "\n",
            "Right Node\n",
            "Node has 2 elements of Class 0\n",
            "Node has 61 elements of Class 1\n",
            "Entropy of Right Node 0.2030739299866456 \n",
            "\n",
            "Info gain at split 37.5 is 0.8368629726135004 \n",
            "\n",
            "Split Value = 38.5 \n",
            "\n",
            "Left Node\n",
            "Node has 38 elements of Class 0\n",
            "Entropy of Left Node 0.0 \n",
            "\n",
            "Right Node\n",
            "Node has 1 elements of Class 0\n",
            "Node has 61 elements of Class 1\n",
            "Entropy of Right Node 0.11911602665564835 \n",
            "\n",
            "Info gain at split 38.5 is 0.8909476119785852 \n",
            "\n",
            "Split Value = 39.5 \n",
            "\n",
            "Left Node\n",
            "Node has 39 elements of Class 0\n",
            "Entropy of Left Node 0.0 \n",
            "\n",
            "Right Node\n",
            "Node has 61 elements of Class 1\n",
            "Entropy of Right Node 0.0 \n",
            "\n",
            "Info gain at split 39.5 is 0.9647995485050872 \n",
            "\n",
            "Split Value = 40.5 \n",
            "\n",
            "Left Node\n",
            "Node has 39 elements of Class 0\n",
            "Node has 1 elements of Class 1\n",
            "Entropy of Left Node 0.16866093149667025 \n",
            "\n",
            "Right Node\n",
            "Node has 60 elements of Class 1\n",
            "Entropy of Right Node 0.0 \n",
            "\n",
            "Info gain at split 40.5 is 0.8973351759064191 \n",
            "\n",
            "Split Value = 41.5 \n",
            "\n",
            "Left Node\n",
            "Node has 39 elements of Class 0\n",
            "Node has 2 elements of Class 1\n",
            "Entropy of Left Node 0.2811937964320427 \n",
            "\n",
            "Right Node\n",
            "Node has 59 elements of Class 1\n",
            "Entropy of Right Node 0.0 \n",
            "\n",
            "Info gain at split 41.5 is 0.8495100919679497 \n",
            "\n",
            "Split Value = 42.5 \n",
            "\n",
            "Left Node\n",
            "Node has 39 elements of Class 0\n",
            "Node has 3 elements of Class 1\n",
            "Entropy of Left Node 0.37123232664087563 \n",
            "\n",
            "Right Node\n",
            "Node has 58 elements of Class 1\n",
            "Entropy of Right Node 0.0 \n",
            "\n",
            "Info gain at split 42.5 is 0.8088819713159194 \n",
            "\n",
            "Split Value = 43.5 \n",
            "\n",
            "Left Node\n",
            "Node has 39 elements of Class 0\n",
            "Node has 4 elements of Class 1\n",
            "Entropy of Left Node 0.446481346896803 \n",
            "\n",
            "Right Node\n",
            "Node has 57 elements of Class 1\n",
            "Entropy of Right Node 0.0 \n",
            "\n",
            "Info gain at split 43.5 is 0.7728125693394619 \n",
            "\n",
            "Split Value = 44.5 \n",
            "\n",
            "Left Node\n",
            "Node has 39 elements of Class 0\n",
            "Node has 5 elements of Class 1\n",
            "Entropy of Left Node 0.5107878229540133 \n",
            "\n",
            "Right Node\n",
            "Node has 56 elements of Class 1\n",
            "Entropy of Right Node 0.0 \n",
            "\n",
            "Info gain at split 44.5 is 0.7400529064053214 \n",
            "\n",
            "Split Value = 45.5 \n",
            "\n",
            "Left Node\n",
            "Node has 39 elements of Class 0\n",
            "Node has 6 elements of Class 1\n",
            "Entropy of Left Node 0.5665095065529053 \n",
            "\n",
            "Right Node\n",
            "Node has 55 elements of Class 1\n",
            "Entropy of Right Node 0.0 \n",
            "\n",
            "Info gain at split 45.5 is 0.7098702705562798 \n",
            "\n",
            "Split Value = 46.5 \n",
            "\n",
            "Left Node\n",
            "Node has 39 elements of Class 0\n",
            "Node has 7 elements of Class 1\n",
            "Entropy of Left Node 0.6152538910563408 \n",
            "\n",
            "Right Node\n",
            "Node has 54 elements of Class 1\n",
            "Entropy of Right Node 0.0 \n",
            "\n",
            "Info gain at split 46.5 is 0.6817827586191705 \n",
            "\n",
            "Split Value = 47.5 \n",
            "\n",
            "Left Node\n",
            "Node has 39 elements of Class 0\n",
            "Node has 8 elements of Class 1\n",
            "Entropy of Left Node 0.6581912658132185 \n",
            "\n",
            "Right Node\n",
            "Node has 53 elements of Class 1\n",
            "Entropy of Right Node 0.0 \n",
            "\n",
            "Info gain at split 47.5 is 0.6554496535728744 \n",
            "\n",
            "Split Value = 48.5 \n",
            "\n",
            "Left Node\n",
            "Node has 39 elements of Class 0\n",
            "Node has 9 elements of Class 1\n",
            "Entropy of Left Node 0.6962122601251459 \n",
            "\n",
            "Right Node\n",
            "Node has 52 elements of Class 1\n",
            "Entropy of Right Node 0.0 \n",
            "\n",
            "Info gain at split 48.5 is 0.6306176636450171 \n",
            "\n",
            "Split Value = 49.5 \n",
            "\n",
            "Left Node\n",
            "Node has 39 elements of Class 0\n",
            "Node has 10 elements of Class 1\n",
            "Entropy of Left Node 0.7300166301457938 \n",
            "\n",
            "Right Node\n",
            "Node has 51 elements of Class 1\n",
            "Entropy of Right Node 0.0 \n",
            "\n",
            "Info gain at split 49.5 is 0.6070913997336482 \n",
            "\n",
            "Split Value = 50.5 \n",
            "\n",
            "Left Node\n",
            "Node has 39 elements of Class 0\n",
            "Node has 11 elements of Class 1\n",
            "Entropy of Left Node 0.7601675029619657 \n",
            "\n",
            "Right Node\n",
            "Node has 50 elements of Class 1\n",
            "Entropy of Right Node 0.0 \n",
            "\n",
            "Info gain at split 50.5 is 0.5847157970241044 \n",
            "\n",
            "Split Value = 51.5 \n",
            "\n",
            "Left Node\n",
            "Node has 39 elements of Class 0\n",
            "Node has 12 elements of Class 1\n",
            "Entropy of Left Node 0.7871265862012691 \n",
            "\n",
            "Right Node\n",
            "Node has 49 elements of Class 1\n",
            "Entropy of Right Node 0.0 \n",
            "\n",
            "Info gain at split 51.5 is 0.56336498954244 \n",
            "\n",
            "Split Value = 52.5 \n",
            "\n",
            "Left Node\n",
            "Node has 39 elements of Class 0\n",
            "Node has 13 elements of Class 1\n",
            "Entropy of Left Node 0.8112781244591328 \n",
            "\n",
            "Right Node\n",
            "Node has 48 elements of Class 1\n",
            "Entropy of Right Node 0.0 \n",
            "\n",
            "Info gain at split 52.5 is 0.5429349237863381 \n",
            "\n",
            "Split Value = 53.5 \n",
            "\n",
            "Left Node\n",
            "Node has 39 elements of Class 0\n",
            "Node has 14 elements of Class 1\n",
            "Entropy of Left Node 0.83294582353614 \n",
            "\n",
            "Right Node\n",
            "Node has 47 elements of Class 1\n",
            "Entropy of Right Node 0.0 \n",
            "\n",
            "Info gain at split 53.5 is 0.523338262030933 \n",
            "\n",
            "Split Value = 54.5 \n",
            "\n",
            "Left Node\n",
            "Node has 39 elements of Class 0\n",
            "Node has 15 elements of Class 1\n",
            "Entropy of Left Node 0.8524051786494785 \n",
            "\n",
            "Right Node\n",
            "Node has 46 elements of Class 1\n",
            "Entropy of Right Node 0.0 \n",
            "\n",
            "Info gain at split 54.5 is 0.5045007520343687 \n",
            "\n",
            "Split Value = 55.5 \n",
            "\n",
            "Left Node\n",
            "Node has 39 elements of Class 0\n",
            "Node has 16 elements of Class 1\n",
            "Entropy of Left Node 0.8698926856041563 \n",
            "\n",
            "Right Node\n",
            "Node has 45 elements of Class 1\n",
            "Entropy of Right Node 0.0 \n",
            "\n",
            "Info gain at split 55.5 is 0.4863585714228012 \n",
            "\n",
            "Split Value = 56.5 \n",
            "\n",
            "Left Node\n",
            "Node has 39 elements of Class 0\n",
            "Node has 17 elements of Class 1\n",
            "Entropy of Left Node 0.885612871398971 \n",
            "\n",
            "Right Node\n",
            "Node has 44 elements of Class 1\n",
            "Entropy of Right Node 0.0 \n",
            "\n",
            "Info gain at split 56.5 is 0.46885634052166336 \n",
            "\n",
            "Split Value = 57.5 \n",
            "\n",
            "Left Node\n",
            "Node has 39 elements of Class 0\n",
            "Node has 18 elements of Class 1\n",
            "Entropy of Left Node 0.8997437586982626 \n",
            "\n",
            "Right Node\n",
            "Node has 43 elements of Class 1\n",
            "Entropy of Right Node 0.0 \n",
            "\n",
            "Info gain at split 57.5 is 0.45194560604707756 \n",
            "\n",
            "Split Value = 58.5 \n",
            "\n",
            "Left Node\n",
            "Node has 39 elements of Class 0\n",
            "Node has 19 elements of Class 1\n",
            "Entropy of Left Node 0.9124411797645409 \n",
            "\n",
            "Right Node\n",
            "Node has 42 elements of Class 1\n",
            "Entropy of Right Node 0.0 \n",
            "\n",
            "Info gain at split 58.5 is 0.4355836642416535 \n",
            "\n",
            "Split Value = 59.5 \n",
            "\n",
            "Left Node\n",
            "Node has 39 elements of Class 0\n",
            "Node has 20 elements of Class 1\n",
            "Entropy of Left Node 0.9238422284571814 \n",
            "\n",
            "Right Node\n",
            "Node has 41 elements of Class 1\n",
            "Entropy of Right Node 0.0 \n",
            "\n",
            "Info gain at split 59.5 is 0.4197326337153502 \n",
            "\n",
            "Split Value = 60.5 \n",
            "\n",
            "Left Node\n",
            "Node has 39 elements of Class 0\n",
            "Node has 21 elements of Class 1\n",
            "Entropy of Left Node 0.9340680553754911 \n",
            "\n",
            "Right Node\n",
            "Node has 40 elements of Class 1\n",
            "Entropy of Right Node 0.0 \n",
            "\n",
            "Info gain at split 60.5 is 0.4043587152797926 \n",
            "\n",
            "Split Value = 61.5 \n",
            "\n",
            "Left Node\n",
            "Node has 39 elements of Class 0\n",
            "Node has 22 elements of Class 1\n",
            "Entropy of Left Node 0.9432261548473415 \n",
            "\n",
            "Right Node\n",
            "Node has 39 elements of Class 1\n",
            "Entropy of Right Node 0.0 \n",
            "\n",
            "Info gain at split 61.5 is 0.38943159404820893 \n",
            "\n",
            "Split Value = 62.5 \n",
            "\n",
            "Left Node\n",
            "Node has 39 elements of Class 0\n",
            "Node has 23 elements of Class 1\n",
            "Entropy of Left Node 0.9514122535330207 \n",
            "\n",
            "Right Node\n",
            "Node has 38 elements of Class 1\n",
            "Entropy of Right Node 0.0 \n",
            "\n",
            "Info gain at split 62.5 is 0.3749239513146143 \n",
            "\n",
            "Split Value = 63.5 \n",
            "\n",
            "Left Node\n",
            "Node has 39 elements of Class 0\n",
            "Node has 24 elements of Class 1\n",
            "Entropy of Left Node 0.9587118829771317 \n",
            "\n",
            "Right Node\n",
            "Node has 37 elements of Class 1\n",
            "Entropy of Right Node 0.0 \n",
            "\n",
            "Info gain at split 63.5 is 0.3608110622294942 \n",
            "\n",
            "Split Value = 64.5 \n",
            "\n",
            "Left Node\n",
            "Node has 39 elements of Class 0\n",
            "Node has 25 elements of Class 1\n",
            "Entropy of Left Node 0.9652016987500656 \n",
            "\n",
            "Right Node\n",
            "Node has 36 elements of Class 1\n",
            "Entropy of Right Node 0.0 \n",
            "\n",
            "Info gain at split 64.5 is 0.34707046130504526 \n",
            "\n",
            "Split Value = 65.5 \n",
            "\n",
            "Left Node\n",
            "Node has 39 elements of Class 0\n",
            "Node has 26 elements of Class 1\n",
            "Entropy of Left Node 0.9709505944546686 \n",
            "\n",
            "Right Node\n",
            "Node has 35 elements of Class 1\n",
            "Entropy of Right Node 0.0 \n",
            "\n",
            "Info gain at split 65.5 is 0.33368166210955263 \n",
            "\n",
            "Split Value = 66.5 \n",
            "\n",
            "Left Node\n",
            "Node has 39 elements of Class 0\n",
            "Node has 27 elements of Class 1\n",
            "Entropy of Left Node 0.9760206482366149 \n",
            "\n",
            "Right Node\n",
            "Node has 34 elements of Class 1\n",
            "Entropy of Right Node 0.0 \n",
            "\n",
            "Info gain at split 66.5 is 0.32062592066892126 \n",
            "\n",
            "Split Value = 67.5 \n",
            "\n",
            "Left Node\n",
            "Node has 39 elements of Class 0\n",
            "Node has 28 elements of Class 1\n",
            "Entropy of Left Node 0.9804679314541813 \n",
            "\n",
            "Right Node\n",
            "Node has 33 elements of Class 1\n",
            "Entropy of Right Node 0.0 \n",
            "\n",
            "Info gain at split 67.5 is 0.30788603443078566 \n",
            "\n",
            "Split Value = 68.5 \n",
            "\n",
            "Left Node\n",
            "Node has 39 elements of Class 0\n",
            "Node has 29 elements of Class 1\n",
            "Entropy of Left Node 0.9843432030984677 \n",
            "\n",
            "Right Node\n",
            "Node has 32 elements of Class 1\n",
            "Entropy of Right Node 0.0 \n",
            "\n",
            "Info gain at split 68.5 is 0.29544617039812915 \n",
            "\n",
            "Split Value = 69.5 \n",
            "\n",
            "Left Node\n",
            "Node has 39 elements of Class 0\n",
            "Node has 30 elements of Class 1\n",
            "Entropy of Left Node 0.9876925088958034 \n",
            "\n",
            "Right Node\n",
            "Node has 31 elements of Class 1\n",
            "Entropy of Right Node 0.0 \n",
            "\n",
            "Info gain at split 69.5 is 0.2832917173669829 \n",
            "\n",
            "Split Value = 70.5 \n",
            "\n",
            "Left Node\n",
            "Node has 39 elements of Class 0\n",
            "Node has 31 elements of Class 1\n",
            "Entropy of Left Node 0.9905577004075261 \n",
            "\n",
            "Right Node\n",
            "Node has 30 elements of Class 1\n",
            "Entropy of Right Node 0.0 \n",
            "\n",
            "Info gain at split 70.5 is 0.2714091582198189 \n",
            "\n",
            "Split Value = 71.5 \n",
            "\n",
            "Left Node\n",
            "Node has 39 elements of Class 0\n",
            "Node has 32 elements of Class 1\n",
            "Entropy of Left Node 0.9929768866085174 \n",
            "\n",
            "Right Node\n",
            "Node has 29 elements of Class 1\n",
            "Entropy of Right Node 0.0 \n",
            "\n",
            "Info gain at split 71.5 is 0.2597859590130399 \n",
            "\n",
            "Split Value = 72.5 \n",
            "\n",
            "Left Node\n",
            "Node has 39 elements of Class 0\n",
            "Node has 33 elements of Class 1\n",
            "Entropy of Left Node 0.9949848281859701 \n",
            "\n",
            "Right Node\n",
            "Node has 28 elements of Class 1\n",
            "Entropy of Right Node 0.0 \n",
            "\n",
            "Info gain at split 72.5 is 0.24841047221118873 \n",
            "\n",
            "Split Value = 73.5 \n",
            "\n",
            "Left Node\n",
            "Node has 39 elements of Class 0\n",
            "Node has 34 elements of Class 1\n",
            "Entropy of Left Node 0.9966132830150962 \n",
            "\n",
            "Right Node\n",
            "Node has 27 elements of Class 1\n",
            "Entropy of Right Node 0.0 \n",
            "\n",
            "Info gain at split 73.5 is 0.23727185190406697 \n",
            "\n",
            "Split Value = 74.5 \n",
            "\n",
            "Left Node\n",
            "Node has 39 elements of Class 0\n",
            "Node has 35 elements of Class 1\n",
            "Entropy of Left Node 0.9978913098356861 \n",
            "\n",
            "Right Node\n",
            "Node has 26 elements of Class 1\n",
            "Entropy of Right Node 0.0 \n",
            "\n",
            "Info gain at split 74.5 is 0.2263599792266795 \n",
            "\n",
            "Split Value = 75.5 \n",
            "\n",
            "Left Node\n",
            "Node has 39 elements of Class 0\n",
            "Node has 36 elements of Class 1\n",
            "Entropy of Left Node 0.9988455359952018 \n",
            "\n",
            "Right Node\n",
            "Node has 25 elements of Class 1\n",
            "Entropy of Right Node 0.0 \n",
            "\n",
            "Info gain at split 75.5 is 0.21566539650868588 \n",
            "\n",
            "Split Value = 76.5 \n",
            "\n",
            "Left Node\n",
            "Node has 39 elements of Class 0\n",
            "Node has 37 elements of Class 1\n",
            "Entropy of Left Node 0.9995003941817588 \n",
            "\n",
            "Right Node\n",
            "Node has 24 elements of Class 1\n",
            "Entropy of Right Node 0.0 \n",
            "\n",
            "Info gain at split 76.5 is 0.2051792489269505 \n",
            "\n",
            "Split Value = 77.5 \n",
            "\n",
            "Left Node\n",
            "Node has 39 elements of Class 0\n",
            "Node has 38 elements of Class 1\n",
            "Entropy of Left Node 0.9998783322990061 \n",
            "\n",
            "Right Node\n",
            "Node has 23 elements of Class 1\n",
            "Entropy of Right Node 0.0 \n",
            "\n",
            "Info gain at split 77.5 is 0.19489323263485248 \n",
            "\n",
            "Split Value = 78.5 \n",
            "\n",
            "Left Node\n",
            "Node has 39 elements of Class 0\n",
            "Node has 39 elements of Class 1\n",
            "Entropy of Left Node 1.0 \n",
            "\n",
            "Right Node\n",
            "Node has 22 elements of Class 1\n",
            "Entropy of Right Node 0.0 \n",
            "\n",
            "Info gain at split 78.5 is 0.18479954850508717 \n",
            "\n",
            "Split Value = 79.5 \n",
            "\n",
            "Left Node\n",
            "Node has 39 elements of Class 0\n",
            "Node has 40 elements of Class 1\n",
            "Entropy of Left Node 0.9998844148717589 \n",
            "\n",
            "Right Node\n",
            "Node has 21 elements of Class 1\n",
            "Entropy of Right Node 0.0 \n",
            "\n",
            "Info gain at split 79.5 is 0.1748908607563976 \n",
            "\n",
            "Split Value = 80.5 \n",
            "\n",
            "Left Node\n",
            "Node has 39 elements of Class 0\n",
            "Node has 41 elements of Class 1\n",
            "Entropy of Left Node 0.9995491108252483 \n",
            "\n",
            "Right Node\n",
            "Node has 20 elements of Class 1\n",
            "Entropy of Right Node 0.0 \n",
            "\n",
            "Info gain at split 80.5 is 0.16516025984488847 \n",
            "\n",
            "Split Value = 81.5 \n",
            "\n",
            "Left Node\n",
            "Node has 39 elements of Class 0\n",
            "Node has 42 elements of Class 1\n",
            "Entropy of Left Node 0.9990102708804813 \n",
            "\n",
            "Right Node\n",
            "Node has 19 elements of Class 1\n",
            "Entropy of Right Node 0.0 \n",
            "\n",
            "Info gain at split 81.5 is 0.15560122909189722 \n",
            "\n",
            "Split Value = 82.5 \n",
            "\n",
            "Left Node\n",
            "Node has 39 elements of Class 0\n",
            "Node has 43 elements of Class 1\n",
            "Entropy of Left Node 0.9982828462300606 \n",
            "\n",
            "Right Node\n",
            "Node has 18 elements of Class 1\n",
            "Entropy of Right Node 0.0 \n",
            "\n",
            "Info gain at split 82.5 is 0.1462076145964376 \n",
            "\n",
            "Split Value = 83.5 \n",
            "\n",
            "Left Node\n",
            "Node has 39 elements of Class 0\n",
            "Node has 44 elements of Class 1\n",
            "Entropy of Left Node 0.9973806632063371 \n",
            "\n",
            "Right Node\n",
            "Node has 17 elements of Class 1\n",
            "Entropy of Right Node 0.0 \n",
            "\n",
            "Info gain at split 83.5 is 0.13697359804382747 \n",
            "\n",
            "Split Value = 84.5 \n",
            "\n",
            "Left Node\n",
            "Node has 39 elements of Class 0\n",
            "Node has 45 elements of Class 1\n",
            "Entropy of Left Node 0.996316519558962 \n",
            "\n",
            "Right Node\n",
            "Node has 16 elements of Class 1\n",
            "Entropy of Right Node 0.0 \n",
            "\n",
            "Info gain at split 84.5 is 0.12789367207555913 \n",
            "\n",
            "Split Value = 85.5 \n",
            "\n",
            "Left Node\n",
            "Node has 39 elements of Class 0\n",
            "Node has 46 elements of Class 1\n",
            "Entropy of Left Node 0.9951022712641691 \n",
            "\n",
            "Right Node\n",
            "Node has 15 elements of Class 1\n",
            "Entropy of Right Node 0.0 \n",
            "\n",
            "Info gain at split 85.5 is 0.11896261793054352 \n",
            "\n",
            "Split Value = 86.5 \n",
            "\n",
            "Left Node\n",
            "Node has 39 elements of Class 0\n",
            "Node has 47 elements of Class 1\n",
            "Entropy of Left Node 0.9937489109291138 \n",
            "\n",
            "Right Node\n",
            "Node has 14 elements of Class 1\n",
            "Entropy of Right Node 0.0 \n",
            "\n",
            "Info gain at split 86.5 is 0.11017548510604935 \n",
            "\n",
            "Split Value = 87.5 \n",
            "\n",
            "Left Node\n",
            "Node has 39 elements of Class 0\n",
            "Node has 48 elements of Class 1\n",
            "Entropy of Left Node 0.9922666387194963 \n",
            "\n",
            "Right Node\n",
            "Node has 13 elements of Class 1\n",
            "Entropy of Right Node 0.0 \n",
            "\n",
            "Info gain at split 87.5 is 0.1015275728191255 \n",
            "\n",
            "Split Value = 88.5 \n",
            "\n",
            "Left Node\n",
            "Node has 39 elements of Class 0\n",
            "Node has 49 elements of Class 1\n",
            "Entropy of Left Node 0.9906649266228327 \n",
            "\n",
            "Right Node\n",
            "Node has 12 elements of Class 1\n",
            "Entropy of Right Node 0.0 \n",
            "\n",
            "Info gain at split 88.5 is 0.09301441307699443 \n",
            "\n",
            "Split Value = 89.5 \n",
            "\n",
            "Left Node\n",
            "Node has 39 elements of Class 0\n",
            "Node has 50 elements of Class 1\n",
            "Entropy of Left Node 0.9889525767600615 \n",
            "\n",
            "Right Node\n",
            "Node has 11 elements of Class 1\n",
            "Entropy of Right Node 0.0 \n",
            "\n",
            "Info gain at split 89.5 is 0.08463175518863242 \n",
            "\n",
            "Split Value = 90.5 \n",
            "\n",
            "Left Node\n",
            "Node has 39 elements of Class 0\n",
            "Node has 51 elements of Class 1\n",
            "Entropy of Left Node 0.9871377743721863 \n",
            "\n",
            "Right Node\n",
            "Node has 10 elements of Class 1\n",
            "Entropy of Right Node 0.0 \n",
            "\n",
            "Info gain at split 90.5 is 0.07637555157011955 \n",
            "\n",
            "Split Value = 91.5 \n",
            "\n",
            "Left Node\n",
            "Node has 39 elements of Class 0\n",
            "Node has 52 elements of Class 1\n",
            "Entropy of Left Node 0.9852281360342515 \n",
            "\n",
            "Right Node\n",
            "Node has 9 elements of Class 1\n",
            "Entropy of Right Node 0.0 \n",
            "\n",
            "Info gain at split 91.5 is 0.06824194471391831 \n",
            "\n",
            "Split Value = 92.5 \n",
            "\n",
            "Left Node\n",
            "Node has 39 elements of Class 0\n",
            "Node has 53 elements of Class 1\n",
            "Entropy of Left Node 0.9832307535844342 \n",
            "\n",
            "Right Node\n",
            "Node has 8 elements of Class 1\n",
            "Entropy of Right Node 0.0 \n",
            "\n",
            "Info gain at split 92.5 is 0.06022725520740768 \n",
            "\n",
            "Split Value = 93.5 \n",
            "\n",
            "Left Node\n",
            "Node has 39 elements of Class 0\n",
            "Node has 54 elements of Class 1\n",
            "Entropy of Left Node 0.9811522341999133 \n",
            "\n",
            "Right Node\n",
            "Node has 7 elements of Class 1\n",
            "Entropy of Right Node 0.0 \n",
            "\n",
            "Info gain at split 93.5 is 0.052327970699167836 \n",
            "\n",
            "Split Value = 94.5 \n",
            "\n",
            "Left Node\n",
            "Node has 39 elements of Class 0\n",
            "Node has 55 elements of Class 1\n",
            "Entropy of Left Node 0.978998737002276 \n",
            "\n",
            "Right Node\n",
            "Node has 6 elements of Class 1\n",
            "Entropy of Right Node 0.0 \n",
            "\n",
            "Info gain at split 94.5 is 0.04454073572294781 \n",
            "\n",
            "Split Value = 95.5 \n",
            "\n",
            "Left Node\n",
            "Node has 39 elements of Class 0\n",
            "Node has 56 elements of Class 1\n",
            "Entropy of Left Node 0.9767760065324899 \n",
            "\n",
            "Right Node\n",
            "Node has 5 elements of Class 1\n",
            "Entropy of Right Node 0.0 \n",
            "\n",
            "Info gain at split 95.5 is 0.03686234229922192 \n",
            "\n",
            "Split Value = 96.5 \n",
            "\n",
            "Left Node\n",
            "Node has 39 elements of Class 0\n",
            "Node has 57 elements of Class 1\n",
            "Entropy of Left Node 0.9744894033980523 \n",
            "\n",
            "Right Node\n",
            "Node has 4 elements of Class 1\n",
            "Entropy of Right Node 0.0 \n",
            "\n",
            "Info gain at split 96.5 is 0.029289721242957034 \n",
            "\n",
            "Split Value = 97.5 \n",
            "\n",
            "Left Node\n",
            "Node has 39 elements of Class 0\n",
            "Node has 58 elements of Class 1\n",
            "Entropy of Left Node 0.9721439323621084 \n",
            "\n",
            "Right Node\n",
            "Node has 3 elements of Class 1\n",
            "Entropy of Right Node 0.0 \n",
            "\n",
            "Info gain at split 97.5 is 0.021819934113842088 \n",
            "\n",
            "Split Value = 98.5 \n",
            "\n",
            "Left Node\n",
            "Node has 39 elements of Class 0\n",
            "Node has 59 elements of Class 1\n",
            "Entropy of Left Node 0.9697442681154499 \n",
            "\n",
            "Right Node\n",
            "Node has 2 elements of Class 1\n",
            "Entropy of Right Node 0.0 \n",
            "\n",
            "Info gain at split 98.5 is 0.014450165751946353 \n",
            "\n",
            "Split Value = 99.5 \n",
            "\n",
            "Left Node\n",
            "Node has 39 elements of Class 0\n",
            "Node has 60 elements of Class 1\n",
            "Entropy of Left Node 0.9672947789468944 \n",
            "\n",
            "Right Node\n",
            "Node has 1 elements of Class 1\n",
            "Entropy of Right Node 0.0 \n",
            "\n",
            "Info gain at split 99.5 is 0.007177717347661705 \n",
            "\n"
          ],
          "name": "stdout"
        }
      ]
    },
    {
      "cell_type": "code",
      "metadata": {
        "id": "-Q7srw-Bco1v",
        "colab_type": "code",
        "outputId": "7f0a1e66-3b9f-4f3b-e016-da496ca9e413",
        "colab": {
          "base_uri": "https://localhost:8080/",
          "height": 34
        }
      },
      "source": [
        "info_gains.index(max(info_gains))\n"
      ],
      "execution_count": 0,
      "outputs": [
        {
          "output_type": "execute_result",
          "data": {
            "text/plain": [
              "38"
            ]
          },
          "metadata": {
            "tags": []
          },
          "execution_count": 35
        }
      ]
    },
    {
      "cell_type": "code",
      "metadata": {
        "id": "C18sf0MCcsHA",
        "colab_type": "code",
        "outputId": "663ce30c-7d6b-4fa6-a946-8ae013546351",
        "colab": {
          "base_uri": "https://localhost:8080/",
          "height": 34
        }
      },
      "source": [
        "split_values[info_gains.index(max(info_gains))]\n"
      ],
      "execution_count": 0,
      "outputs": [
        {
          "output_type": "execute_result",
          "data": {
            "text/plain": [
              "39.5"
            ]
          },
          "metadata": {
            "tags": []
          },
          "execution_count": 36
        }
      ]
    },
    {
      "cell_type": "code",
      "metadata": {
        "id": "bIK13rULctVd",
        "colab_type": "code",
        "colab": {}
      },
      "source": [
        "clf = tree.DecisionTreeClassifier(criterion='entropy')\n"
      ],
      "execution_count": 0,
      "outputs": []
    },
    {
      "cell_type": "code",
      "metadata": {
        "id": "zQLk5h4jcul2",
        "colab_type": "code",
        "colab": {}
      },
      "source": [
        "clf = clf.fit(X_train,Y_train)\n"
      ],
      "execution_count": 0,
      "outputs": []
    },
    {
      "cell_type": "code",
      "metadata": {
        "id": "742sIu1ocvr1",
        "colab_type": "code",
        "outputId": "04ac2cca-d517-4c4a-c4d4-2bb8d974214c",
        "colab": {
          "base_uri": "https://localhost:8080/",
          "height": 277
        }
      },
      "source": [
        "plot_decision_tree(clf, X_train.columns,[\"Fail\", \"Pass\"])\n"
      ],
      "execution_count": 0,
      "outputs": [
        {
          "output_type": "execute_result",
          "data": {
            "image/png": "[encoded data removed]",
            "text/plain": [
              "<IPython.core.display.Image object>"
            ]
          },
          "metadata": {
            "tags": []
          },
          "execution_count": 39
        }
      ]
    },
    {
      "cell_type": "code",
      "metadata": {
        "id": "9NRHUgFNcw-v",
        "colab_type": "code",
        "outputId": "470c4160-7e7b-4ddf-99b7-035999e6e4b4",
        "colab": {
          "base_uri": "https://localhost:8080/",
          "height": 119
        }
      },
      "source": [
        "from sklearn.tree import DecisionTreeClassifier\n",
        "classifier = DecisionTreeClassifier()\n",
        "classifier.fit(X_train, Y_train)"
      ],
      "execution_count": 0,
      "outputs": [
        {
          "output_type": "execute_result",
          "data": {
            "text/plain": [
              "DecisionTreeClassifier(ccp_alpha=0.0, class_weight=None, criterion='gini',\n",
              "                       max_depth=None, max_features=None, max_leaf_nodes=None,\n",
              "                       min_impurity_decrease=0.0, min_impurity_split=None,\n",
              "                       min_samples_leaf=1, min_samples_split=2,\n",
              "                       min_weight_fraction_leaf=0.0, presort='deprecated',\n",
              "                       random_state=None, splitter='best')"
            ]
          },
          "metadata": {
            "tags": []
          },
          "execution_count": 72
        }
      ]
    },
    {
      "cell_type": "code",
      "metadata": {
        "id": "fbXebwKYpMmt",
        "colab_type": "code",
        "colab": {}
      },
      "source": [
        "y_pred = classifier.predict(X_train)\n"
      ],
      "execution_count": 0,
      "outputs": []
    },
    {
      "cell_type": "code",
      "metadata": {
        "id": "rNE2-a7apTc1",
        "colab_type": "code",
        "outputId": "575546ef-c508-479a-a722-a3f6705c7118",
        "colab": {
          "base_uri": "https://localhost:8080/",
          "height": 204
        }
      },
      "source": [
        "from sklearn.metrics import classification_report, confusion_matrix\n",
        "print(confusion_matrix(Y_train, y_pred))\n",
        "print(classification_report(Y_train, y_pred))"
      ],
      "execution_count": 0,
      "outputs": [
        {
          "output_type": "stream",
          "text": [
            "[[39  0]\n",
            " [ 0 61]]\n",
            "              precision    recall  f1-score   support\n",
            "\n",
            "           0       1.00      1.00      1.00        39\n",
            "           1       1.00      1.00      1.00        61\n",
            "\n",
            "    accuracy                           1.00       100\n",
            "   macro avg       1.00      1.00      1.00       100\n",
            "weighted avg       1.00      1.00      1.00       100\n",
            "\n"
          ],
          "name": "stdout"
        }
      ]
    },
    {
      "cell_type": "code",
      "metadata": {
        "id": "o9OKo9mupbcl",
        "colab_type": "code",
        "colab": {}
      },
      "source": [
        ""
      ],
      "execution_count": 0,
      "outputs": []
    },
    {
      "cell_type": "code",
      "metadata": {
        "id": "51pK3Q42-_Bw",
        "colab_type": "code",
        "colab": {}
      },
      "source": [
        ""
      ],
      "execution_count": 0,
      "outputs": []
    },
    {
      "cell_type": "code",
      "metadata": {
        "id": "Ano4b-Ys-_Is",
        "colab_type": "code",
        "colab": {}
      },
      "source": [
        ""
      ],
      "execution_count": 0,
      "outputs": []
    },
    {
      "cell_type": "code",
      "metadata": {
        "id": "5AwoBapv-_NL",
        "colab_type": "code",
        "colab": {}
      },
      "source": [
        "import numpy as np\n",
        "import pandas as pd\n",
        "import matplotlib as mpl\n",
        "import matplotlib.pyplot as plt"
      ],
      "execution_count": 0,
      "outputs": []
    },
    {
      "cell_type": "code",
      "metadata": {
        "id": "BROJulWn-_GA",
        "colab_type": "code",
        "colab": {
          "base_uri": "https://localhost:8080/",
          "height": 34
        },
        "outputId": "b7558969-ef42-4612-8847-54fae518f66c"
      },
      "source": [
        "train = pd.read_csv(\"/content/titanic_train.csv\")\n",
        "print(train.shape)"
      ],
      "execution_count": 7,
      "outputs": [
        {
          "output_type": "stream",
          "text": [
            "(891, 12)\n"
          ],
          "name": "stdout"
        }
      ]
    },
    {
      "cell_type": "code",
      "metadata": {
        "id": "x2Q9iDVw_VWd",
        "colab_type": "code",
        "colab": {
          "base_uri": "https://localhost:8080/",
          "height": 142
        },
        "outputId": "3b2209b6-6f2e-445a-d2f8-205e30715ac2"
      },
      "source": [
        "#Checking for missing data\n",
        "NAs = pd.concat([train.isnull().sum()], axis=1, keys=[\"Train\"])\n",
        "NAs[NAs.sum(axis=1) > 0]"
      ],
      "execution_count": 9,
      "outputs": [
        {
          "output_type": "execute_result",
          "data": {
            "text/html": [
              "<div>\n",
              "<style scoped>\n",
              "    .dataframe tbody tr th:only-of-type {\n",
              "        vertical-align: middle;\n",
              "    }\n",
              "\n",
              "    .dataframe tbody tr th {\n",
              "        vertical-align: top;\n",
              "    }\n",
              "\n",
              "    .dataframe thead th {\n",
              "        text-align: right;\n",
              "    }\n",
              "</style>\n",
              "<table border=\"1\" class=\"dataframe\">\n",
              "  <thead>\n",
              "    <tr style=\"text-align: right;\">\n",
              "      <th></th>\n",
              "      <th>Train</th>\n",
              "    </tr>\n",
              "  </thead>\n",
              "  <tbody>\n",
              "    <tr>\n",
              "      <th>Age</th>\n",
              "      <td>177</td>\n",
              "    </tr>\n",
              "    <tr>\n",
              "      <th>Cabin</th>\n",
              "      <td>687</td>\n",
              "    </tr>\n",
              "    <tr>\n",
              "      <th>Embarked</th>\n",
              "      <td>2</td>\n",
              "    </tr>\n",
              "  </tbody>\n",
              "</table>\n",
              "</div>"
            ],
            "text/plain": [
              "          Train\n",
              "Age         177\n",
              "Cabin       687\n",
              "Embarked      2"
            ]
          },
          "metadata": {
            "tags": []
          },
          "execution_count": 9
        }
      ]
    },
    {
      "cell_type": "code",
      "metadata": {
        "id": "sw1VImpH_pHF",
        "colab_type": "code",
        "colab": {
          "base_uri": "https://localhost:8080/",
          "height": 34
        },
        "outputId": "40ba9298-4d69-42aa-e70c-bc0c61c2e600"
      },
      "source": [
        "# At this point we will drop the Cabin feature since it is missing a lot of the data\n",
        "train.pop(\"Cabin\")\n",
        "train.pop(\"Name\")\n",
        "train.pop(\"Ticket\")\n",
        "train.shape"
      ],
      "execution_count": 11,
      "outputs": [
        {
          "output_type": "execute_result",
          "data": {
            "text/plain": [
              "(891, 9)"
            ]
          },
          "metadata": {
            "tags": []
          },
          "execution_count": 11
        }
      ]
    },
    {
      "cell_type": "code",
      "metadata": {
        "id": "rVPMNz1j_vSg",
        "colab_type": "code",
        "colab": {}
      },
      "source": [
        "\n",
        "# Filling missing Age values with mean\n",
        "train['Age'] = train['Age'].fillna(train['Age'].mean())"
      ],
      "execution_count": 0,
      "outputs": []
    },
    {
      "cell_type": "markdown",
      "metadata": {
        "id": "0BxL_WWHAMwg",
        "colab_type": "text"
      },
      "source": [
        ""
      ]
    },
    {
      "cell_type": "code",
      "metadata": {
        "id": "wKqFU-eC_97Q",
        "colab_type": "code",
        "colab": {}
      },
      "source": [
        "\n",
        "# Filling missing Embarked values with most common value\n",
        "train['Embarked'] = train['Embarked'].fillna(train['Embarked'].mode()[0])\n",
        "train['Pclass'] = train['Pclass'].apply(str)\n",
        "\n",
        "# Getting Dummies from all other categorical vars\n",
        "for col in train.dtypes[train.dtypes == 'object'].index:\n",
        " for_dummy = train.pop(col)\n",
        " train = pd.concat([train, pd.get_dummies(for_dummy, prefix=col)], axis=1)"
      ],
      "execution_count": 0,
      "outputs": []
    },
    {
      "cell_type": "code",
      "metadata": {
        "id": "PGwmz8B4AQQZ",
        "colab_type": "code",
        "colab": {}
      },
      "source": [
        "labels = train.pop('Survived')"
      ],
      "execution_count": 0,
      "outputs": []
    },
    {
      "cell_type": "code",
      "metadata": {
        "id": "GtoeRBzyAVw3",
        "colab_type": "code",
        "colab": {}
      },
      "source": [
        "from sklearn.model_selection import train_test_split\n",
        "x_train, x_test, y_train, y_test = train_test_split(train, labels, test_size=0.25)"
      ],
      "execution_count": 0,
      "outputs": []
    },
    {
      "cell_type": "code",
      "metadata": {
        "id": "bm26RKU8AX-D",
        "colab_type": "code",
        "colab": {
          "base_uri": "https://localhost:8080/",
          "height": 119
        },
        "outputId": "e77a546a-8ba5-4e02-b24f-e461b801e3b4"
      },
      "source": [
        "from sklearn.tree import DecisionTreeClassifier\n",
        "dt = DecisionTreeClassifier()\n",
        "dt.fit(x_train, y_train)"
      ],
      "execution_count": 19,
      "outputs": [
        {
          "output_type": "execute_result",
          "data": {
            "text/plain": [
              "DecisionTreeClassifier(ccp_alpha=0.0, class_weight=None, criterion='gini',\n",
              "                       max_depth=None, max_features=None, max_leaf_nodes=None,\n",
              "                       min_impurity_decrease=0.0, min_impurity_split=None,\n",
              "                       min_samples_leaf=1, min_samples_split=2,\n",
              "                       min_weight_fraction_leaf=0.0, presort='deprecated',\n",
              "                       random_state=None, splitter='best')"
            ]
          },
          "metadata": {
            "tags": []
          },
          "execution_count": 19
        }
      ]
    },
    {
      "cell_type": "code",
      "metadata": {
        "id": "98CTiBzTAa4J",
        "colab_type": "code",
        "colab": {}
      },
      "source": [
        "y_pred = dt.predict(x_test)"
      ],
      "execution_count": 0,
      "outputs": []
    },
    {
      "cell_type": "code",
      "metadata": {
        "id": "WCdk4Zg3AdHs",
        "colab_type": "code",
        "colab": {
          "base_uri": "https://localhost:8080/",
          "height": 34
        },
        "outputId": "b8652f75-3052-4896-c066-0462a7c65b38"
      },
      "source": [
        "from sklearn.metrics import roc_curve, auc\n",
        "false_positive_rate, true_positive_rate, thresholds = roc_curve(y_test, y_pred)\n",
        "roc_auc = auc(false_positive_rate, true_positive_rate)\n",
        "roc_auc"
      ],
      "execution_count": 21,
      "outputs": [
        {
          "output_type": "execute_result",
          "data": {
            "text/plain": [
              "0.7409558579488882"
            ]
          },
          "metadata": {
            "tags": []
          },
          "execution_count": 21
        }
      ]
    },
    {
      "cell_type": "markdown",
      "metadata": {
        "id": "t4lmx5zaAmEz",
        "colab_type": "text"
      },
      "source": [
        "The first parameter to tune is max_depth. This indicates how deep the tree can be. The deeper the tree, the more splits it has and it captures more information about the data. We fit a decision tree with depths ranging from 1 to 32 and plot the training and test auc scores."
      ]
    },
    {
      "cell_type": "code",
      "metadata": {
        "id": "QdQAMMLPAfJ9",
        "colab_type": "code",
        "colab": {
          "base_uri": "https://localhost:8080/",
          "height": 279
        },
        "outputId": "4433a5b2-2fca-41fc-acdf-fe44662252b9"
      },
      "source": [
        "max_depths = np.linspace(1, 32, 32, endpoint=True)\n",
        "train_results = []\n",
        "test_results = []\n",
        "for max_depth in max_depths:\n",
        "   dt = DecisionTreeClassifier(max_depth=max_depth)\n",
        "   dt.fit(x_train, y_train)\n",
        "   train_pred = dt.predict(x_train)\n",
        "   false_positive_rate, true_positive_rate, thresholds = roc_curve(y_train, train_pred)\n",
        "   roc_auc = auc(false_positive_rate, true_positive_rate)\n",
        "   # Add auc score to previous train results\n",
        "   train_results.append(roc_auc)\n",
        "   y_pred = dt.predict(x_test)\n",
        "   false_positive_rate, true_positive_rate, thresholds = roc_curve(y_test, y_pred)\n",
        "   roc_auc = auc(false_positive_rate, true_positive_rate)\n",
        "   # Add auc score to previous test results\n",
        "   test_results.append(roc_auc)\n",
        "from matplotlib.legend_handler import HandlerLine2D\n",
        "line1,= plt.plot(max_depths, train_results, 'b', label=\"Train AUC\")\n",
        "line2, = plt.plot(max_depths, test_results, 'r', label=\"Test AUC\")\n",
        "plt.legend(handler_map={line1: HandlerLine2D(numpoints=2)})\n",
        "plt.ylabel('AUC score')\n",
        "plt.xlabel('Tree depth')\n",
        "plt.show()\n"
      ],
      "execution_count": 26,
      "outputs": [
        {
          "output_type": "display_data",
          "data": {
            "image/png": "[encoded data removed]",
            "text/plain": [
              "<Figure size 432x288 with 1 Axes>"
            ]
          },
          "metadata": {
            "tags": [],
            "needs_background": "light"
          }
        }
      ]
    },
    {
      "cell_type": "code",
      "metadata": {
        "id": "8wBfGcv2As5R",
        "colab_type": "code",
        "colab": {
          "base_uri": "https://localhost:8080/",
          "height": 279
        },
        "outputId": "7791f9bc-1d81-4dea-a50b-974cfe3aa41e"
      },
      "source": [
        "min_samples_splits = np.linspace(0.1, 1.0, 10, endpoint=True)\n",
        "train_results = []\n",
        "test_results = []\n",
        "for min_samples_split in min_samples_splits:\n",
        "   dt = DecisionTreeClassifier(min_samples_split=min_samples_split)\n",
        "   dt.fit(x_train, y_train)\n",
        "   train_pred = dt.predict(x_train)\n",
        "   false_positive_rate, true_positive_rate, thresholds =    roc_curve(y_train, train_pred)\n",
        "   roc_auc = auc(false_positive_rate, true_positive_rate)\n",
        "   train_results.append(roc_auc)\n",
        "   y_pred = dt.predict(x_test)\n",
        "   false_positive_rate, true_positive_rate, thresholds = roc_curve(y_test, y_pred)\n",
        "   roc_auc = auc(false_positive_rate, true_positive_rate)\n",
        "   test_results.append(roc_auc)\n",
        "from matplotlib.legend_handler import HandlerLine2D\n",
        "line1, = plt.plot(min_samples_splits, train_results, 'b', label=\"Train AUC\")\n",
        "line2, = plt.plot(min_samples_splits, test_results, 'r', label=\"Test AUC\")\n",
        "plt.legend(handler_map={line1: HandlerLine2D(numpoints=2)})\n",
        "plt.ylabel('AUC score')\n",
        "plt.xlabel('min samples split')\n",
        "plt.show()"
      ],
      "execution_count": 28,
      "outputs": [
        {
          "output_type": "display_data",
          "data": {
            "image/png": "[encoded data removed]",
            "text/plain": [
              "<Figure size 432x288 with 1 Axes>"
            ]
          },
          "metadata": {
            "tags": [],
            "needs_background": "light"
          }
        }
      ]
    },
    {
      "cell_type": "code",
      "metadata": {
        "id": "MT0Uucj2BPvp",
        "colab_type": "code",
        "colab": {
          "base_uri": "https://localhost:8080/",
          "height": 279
        },
        "outputId": "2221b681-1028-42f6-abb1-ce6a4a36addb"
      },
      "source": [
        "\n",
        "max_features = list(range(1,4))\n",
        "train_results = []\n",
        "test_results = []\n",
        "for max_feature in max_features:\n",
        "   dt = DecisionTreeClassifier(max_features=max_feature)\n",
        "   dt.fit(x_train, y_train)\n",
        "   train_pred = dt.predict(x_train)\n",
        "   false_positive_rate, true_positive_rate, thresholds = roc_curve(y_train, train_pred)\n",
        "   roc_auc = auc(false_positive_rate, true_positive_rate)\n",
        "   train_results.append(roc_auc)\n",
        "   y_pred = dt.predict(x_test)\n",
        "   false_positive_rate, true_positive_rate, thresholds = roc_curve(y_test, y_pred)\n",
        "   roc_auc = auc(false_positive_rate, true_positive_rate)\n",
        "   test_results.append(roc_auc)\n",
        "from matplotlib.legend_handler import HandlerLine2D\n",
        "line1, = plt.plot(max_features, train_results, 'b', label=\"Train AUC\")\n",
        "line2, = plt.plot(max_features, test_results, 'r', label=\"Test AUC\")\n",
        "plt.legend(handler_map={line1: HandlerLine2D(numpoints=2)})\n",
        "plt.ylabel('AUC score')\n",
        "plt.xlabel('max features')\n",
        "plt.show()\n"
      ],
      "execution_count": 31,
      "outputs": [
        {
          "output_type": "display_data",
          "data": {
            "image/png": "[encoded data removed]",
            "text/plain": [
              "<Figure size 432x288 with 1 Axes>"
            ]
          },
          "metadata": {
            "tags": [],
            "needs_background": "light"
          }
        }
      ]
    },
    {
      "cell_type": "code",
      "metadata": {
        "id": "CYGGY7FfBt_Z",
        "colab_type": "code",
        "colab": {
          "base_uri": "https://localhost:8080/",
          "height": 122
        },
        "outputId": "ab5ed375-60f9-425d-9f63-bc4a60ecdc38"
      },
      "source": [
        "##With Hyper Parameters Tuning\n",
        "#2-1,DesicionTree\n",
        "#importing modules\n",
        "from sklearn.model_selection import GridSearchCV\n",
        "from sklearn.tree import DecisionTreeClassifier\n",
        "#making the instance\n",
        "model= DecisionTreeClassifier(random_state=1234)\n",
        "#Hyper Parameters Set\n",
        "params = {'max_features': ['auto', 'sqrt', 'log2'],\n",
        "          'min_samples_split': [2,3,4,5,6,7,8,9,10,11,12,13,14,15], \n",
        "          'max_depth': [2,3,4,5,6,7,8,9,10,11,12,13,14,15], \n",
        "          'min_samples_leaf':[1,2,3,4,5,6,7,8,9,10,11],\n",
        "          'random_state':[123]}\n",
        "#Making models with hyper parameters sets\n",
        "model1 = GridSearchCV(model, param_grid=params, n_jobs=-1)\n",
        "#Learning\n",
        "model1.fit(x_train,y_train)\n",
        "#The best hyper parameters set\n",
        "print(\"Best Hyper Parameters:\",model1.best_params_)\n",
        "#Prediction\n",
        "prediction=model1.predict(x_test)\n",
        "#importing the metrics module\n",
        "from sklearn import metrics\n",
        "#evaluation(Accuracy)\n",
        "print(\"Accuracy:\",metrics.accuracy_score(prediction,y_test))\n",
        "#evaluation(Confusion Metrix)\n",
        "print(\"Confusion Metrix:\\n\",metrics.confusion_matrix(prediction,y_test))"
      ],
      "execution_count": 36,
      "outputs": [
        {
          "output_type": "stream",
          "text": [
            "Best Hyper Parameters: {'max_depth': 7, 'max_features': 'auto', 'min_samples_leaf': 1, 'min_samples_split': 7, 'random_state': 123}\n",
            "Accuracy: 0.8116591928251121\n",
            "Confusion Metrix:\n",
            " [[122  33]\n",
            " [  9  59]]\n"
          ],
          "name": "stdout"
        }
      ]
    },
    {
      "cell_type": "code",
      "metadata": {
        "id": "VpNYMc5mCZK0",
        "colab_type": "code",
        "colab": {}
      },
      "source": [
        ""
      ],
      "execution_count": 0,
      "outputs": []
    }
  ]
}