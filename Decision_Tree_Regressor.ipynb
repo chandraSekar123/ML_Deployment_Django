{
  "nbformat": 4,
  "nbformat_minor": 0,
  "metadata": {
    "colab": {
      "name": "Decision Tree Regressor.ipynb",
      "provenance": [],
      "authorship_tag": "ABX9TyNRBkDilraVxcPAIfEmJLEk",
      "include_colab_link": true
    },
    "kernelspec": {
      "name": "python3",
      "display_name": "Python 3"
    }
  },
  "cells": [
    {
      "cell_type": "markdown",
      "metadata": {
        "id": "view-in-github",
        "colab_type": "text"
      },
      "source": [
        "<a href=\"https://colab.research.google.com/github/chandraSekar123/ML_Deployment_Django/blob/master/Decision_Tree_Regressor.ipynb\" target=\"_parent\"><img src=\"https://colab.research.google.com/assets/colab-badge.svg\" alt=\"Open In Colab\"/></a>"
      ]
    },
    {
      "cell_type": "code",
      "metadata": {
        "id": "Rp2OW6AOKWVR",
        "colab_type": "code",
        "colab": {}
      },
      "source": [
        "import numpy as np\n",
        "import pandas as pd\n",
        "%matplotlib inline\n",
        "import matplotlib.pyplot as plt\n",
        "from sklearn.model_selection import GridSearchCV, cross_val_score, cross_val_predict, train_test_split\n",
        "import seaborn as sns\n",
        "from sklearn import datasets\n",
        "from sklearn.metrics import mean_squared_error\n",
        "\n",
        "from sklearn.tree import DecisionTreeRegressor"
      ],
      "execution_count": 0,
      "outputs": []
    },
    {
      "cell_type": "code",
      "metadata": {
        "id": "hw5PkwmMK0go",
        "colab_type": "code",
        "colab": {
          "base_uri": "https://localhost:8080/",
          "height": 68
        },
        "outputId": "13da4322-9685-465b-da74-454abbffdc2e"
      },
      "source": [
        "# #############################################################################\n",
        "# Load data\n",
        "boston = datasets.load_boston()\n",
        "print(boston.data.shape, boston.target.shape)\n",
        "print(boston.feature_names)"
      ],
      "execution_count": 153,
      "outputs": [
        {
          "output_type": "stream",
          "text": [
            "(506, 13) (506,)\n",
            "['CRIM' 'ZN' 'INDUS' 'CHAS' 'NOX' 'RM' 'AGE' 'DIS' 'RAD' 'TAX' 'PTRATIO'\n",
            " 'B' 'LSTAT']\n"
          ],
          "name": "stdout"
        }
      ]
    },
    {
      "cell_type": "code",
      "metadata": {
        "id": "nCa5NvS9K2K-",
        "colab_type": "code",
        "colab": {
          "base_uri": "https://localhost:8080/",
          "height": 204
        },
        "outputId": "001eaa08-c942-4254-bb86-0189c525ab5d"
      },
      "source": [
        "data = pd.DataFrame(boston.data,columns=boston.feature_names)\n",
        "data = pd.concat([data,pd.Series(boston.target,name='MEDV')],axis=1)\n",
        "data.head()"
      ],
      "execution_count": 154,
      "outputs": [
        {
          "output_type": "execute_result",
          "data": {
            "text/html": [
              "<div>\n",
              "<style scoped>\n",
              "    .dataframe tbody tr th:only-of-type {\n",
              "        vertical-align: middle;\n",
              "    }\n",
              "\n",
              "    .dataframe tbody tr th {\n",
              "        vertical-align: top;\n",
              "    }\n",
              "\n",
              "    .dataframe thead th {\n",
              "        text-align: right;\n",
              "    }\n",
              "</style>\n",
              "<table border=\"1\" class=\"dataframe\">\n",
              "  <thead>\n",
              "    <tr style=\"text-align: right;\">\n",
              "      <th></th>\n",
              "      <th>CRIM</th>\n",
              "      <th>ZN</th>\n",
              "      <th>INDUS</th>\n",
              "      <th>CHAS</th>\n",
              "      <th>NOX</th>\n",
              "      <th>RM</th>\n",
              "      <th>AGE</th>\n",
              "      <th>DIS</th>\n",
              "      <th>RAD</th>\n",
              "      <th>TAX</th>\n",
              "      <th>PTRATIO</th>\n",
              "      <th>B</th>\n",
              "      <th>LSTAT</th>\n",
              "      <th>MEDV</th>\n",
              "    </tr>\n",
              "  </thead>\n",
              "  <tbody>\n",
              "    <tr>\n",
              "      <th>0</th>\n",
              "      <td>0.00632</td>\n",
              "      <td>18.0</td>\n",
              "      <td>2.31</td>\n",
              "      <td>0.0</td>\n",
              "      <td>0.538</td>\n",
              "      <td>6.575</td>\n",
              "      <td>65.2</td>\n",
              "      <td>4.0900</td>\n",
              "      <td>1.0</td>\n",
              "      <td>296.0</td>\n",
              "      <td>15.3</td>\n",
              "      <td>396.90</td>\n",
              "      <td>4.98</td>\n",
              "      <td>24.0</td>\n",
              "    </tr>\n",
              "    <tr>\n",
              "      <th>1</th>\n",
              "      <td>0.02731</td>\n",
              "      <td>0.0</td>\n",
              "      <td>7.07</td>\n",
              "      <td>0.0</td>\n",
              "      <td>0.469</td>\n",
              "      <td>6.421</td>\n",
              "      <td>78.9</td>\n",
              "      <td>4.9671</td>\n",
              "      <td>2.0</td>\n",
              "      <td>242.0</td>\n",
              "      <td>17.8</td>\n",
              "      <td>396.90</td>\n",
              "      <td>9.14</td>\n",
              "      <td>21.6</td>\n",
              "    </tr>\n",
              "    <tr>\n",
              "      <th>2</th>\n",
              "      <td>0.02729</td>\n",
              "      <td>0.0</td>\n",
              "      <td>7.07</td>\n",
              "      <td>0.0</td>\n",
              "      <td>0.469</td>\n",
              "      <td>7.185</td>\n",
              "      <td>61.1</td>\n",
              "      <td>4.9671</td>\n",
              "      <td>2.0</td>\n",
              "      <td>242.0</td>\n",
              "      <td>17.8</td>\n",
              "      <td>392.83</td>\n",
              "      <td>4.03</td>\n",
              "      <td>34.7</td>\n",
              "    </tr>\n",
              "    <tr>\n",
              "      <th>3</th>\n",
              "      <td>0.03237</td>\n",
              "      <td>0.0</td>\n",
              "      <td>2.18</td>\n",
              "      <td>0.0</td>\n",
              "      <td>0.458</td>\n",
              "      <td>6.998</td>\n",
              "      <td>45.8</td>\n",
              "      <td>6.0622</td>\n",
              "      <td>3.0</td>\n",
              "      <td>222.0</td>\n",
              "      <td>18.7</td>\n",
              "      <td>394.63</td>\n",
              "      <td>2.94</td>\n",
              "      <td>33.4</td>\n",
              "    </tr>\n",
              "    <tr>\n",
              "      <th>4</th>\n",
              "      <td>0.06905</td>\n",
              "      <td>0.0</td>\n",
              "      <td>2.18</td>\n",
              "      <td>0.0</td>\n",
              "      <td>0.458</td>\n",
              "      <td>7.147</td>\n",
              "      <td>54.2</td>\n",
              "      <td>6.0622</td>\n",
              "      <td>3.0</td>\n",
              "      <td>222.0</td>\n",
              "      <td>18.7</td>\n",
              "      <td>396.90</td>\n",
              "      <td>5.33</td>\n",
              "      <td>36.2</td>\n",
              "    </tr>\n",
              "  </tbody>\n",
              "</table>\n",
              "</div>"
            ],
            "text/plain": [
              "      CRIM    ZN  INDUS  CHAS    NOX  ...    TAX  PTRATIO       B  LSTAT  MEDV\n",
              "0  0.00632  18.0   2.31   0.0  0.538  ...  296.0     15.3  396.90   4.98  24.0\n",
              "1  0.02731   0.0   7.07   0.0  0.469  ...  242.0     17.8  396.90   9.14  21.6\n",
              "2  0.02729   0.0   7.07   0.0  0.469  ...  242.0     17.8  392.83   4.03  34.7\n",
              "3  0.03237   0.0   2.18   0.0  0.458  ...  222.0     18.7  394.63   2.94  33.4\n",
              "4  0.06905   0.0   2.18   0.0  0.458  ...  222.0     18.7  396.90   5.33  36.2\n",
              "\n",
              "[5 rows x 14 columns]"
            ]
          },
          "metadata": {
            "tags": []
          },
          "execution_count": 154
        }
      ]
    },
    {
      "cell_type": "code",
      "metadata": {
        "id": "spYyT5cVK6TV",
        "colab_type": "code",
        "colab": {}
      },
      "source": [
        "X = data.iloc[:,:-1]\n",
        "y = data.iloc[:,-1]"
      ],
      "execution_count": 0,
      "outputs": []
    },
    {
      "cell_type": "code",
      "metadata": {
        "id": "p-sBPgiHK71l",
        "colab_type": "code",
        "colab": {}
      },
      "source": [
        "x_training_set, x_test_set, y_training_set, y_test_set = train_test_split(X,y,test_size=0.10,random_state=42,\n",
        "shuffle=True)"
      ],
      "execution_count": 0,
      "outputs": []
    },
    {
      "cell_type": "code",
      "metadata": {
        "id": "T9CA7V_VK81i",
        "colab_type": "code",
        "colab": {
          "base_uri": "https://localhost:8080/",
          "height": 119
        },
        "outputId": "a35c36e6-2d3c-4e34-c0df-bc705f6dd49a"
      },
      "source": [
        "# Fit regression model\n",
        "# Estimate the score on the entire dataset, with no missing values\n",
        "model =  DecisionTreeRegressor(max_depth=4,\n",
        "                           min_samples_split=5,\n",
        "                           max_leaf_nodes=10)\n",
        "model.fit(x_training_set, y_training_set)\n"
      ],
      "execution_count": 157,
      "outputs": [
        {
          "output_type": "execute_result",
          "data": {
            "text/plain": [
              "DecisionTreeRegressor(ccp_alpha=0.0, criterion='mse', max_depth=4,\n",
              "                      max_features=None, max_leaf_nodes=10,\n",
              "                      min_impurity_decrease=0.0, min_impurity_split=None,\n",
              "                      min_samples_leaf=1, min_samples_split=5,\n",
              "                      min_weight_fraction_leaf=0.0, presort='deprecated',\n",
              "                      random_state=None, splitter='best')"
            ]
          },
          "metadata": {
            "tags": []
          },
          "execution_count": 157
        }
      ]
    },
    {
      "cell_type": "code",
      "metadata": {
        "id": "YhUT_E6qLBGt",
        "colab_type": "code",
        "colab": {
          "base_uri": "https://localhost:8080/",
          "height": 68
        },
        "outputId": "6eb48f04-ee2d-4bdd-d84f-61644850a8d2"
      },
      "source": [
        "from sklearn.metrics import mean_squared_error, r2_score\n",
        "model_score = model.score(x_training_set,y_training_set)\n",
        "# Have a look at R sq to give an idea of the fit ,\n",
        "# Explained variance score: 1 is perfect prediction\n",
        "print(\"coefficient of determination R^2 of the prediction.: \",model_score)\n",
        "y_predicted = model.predict(x_test_set)\n",
        "\n",
        "# The mean squared error\n",
        "print(\"Mean squared error: %.2f\"% mean_squared_error(y_test_set, y_predicted))\n",
        "# Explained variance score: 1 is perfect prediction\n",
        "print('Test Variance score: %.2f' % r2_score(y_test_set, y_predicted))"
      ],
      "execution_count": 158,
      "outputs": [
        {
          "output_type": "stream",
          "text": [
            "coefficient of determination R^2 of the prediction.:  0.8632516185324554\n",
            "Mean squared error: 17.90\n",
            "Test Variance score: 0.71\n"
          ],
          "name": "stdout"
        }
      ]
    },
    {
      "cell_type": "code",
      "metadata": {
        "id": "_T6GSbH6LH7j",
        "colab_type": "code",
        "colab": {
          "base_uri": "https://localhost:8080/",
          "height": 295
        },
        "outputId": "96ba8064-643c-4134-f1d9-413e9cdada5a"
      },
      "source": [
        "# So let's run the model against the test data\n",
        "from sklearn.model_selection import cross_val_predict\n",
        "\n",
        "fig, ax = plt.subplots()\n",
        "ax.scatter(y_test_set, y_predicted, edgecolors=(0, 0, 0))\n",
        "ax.plot([y_test_set.min(), y_test_set.max()], [y_test_set.min(), y_test_set.max()], 'k--', lw=4)\n",
        "ax.set_xlabel('Actual')\n",
        "ax.set_ylabel('Predicted')\n",
        "ax.set_title(\"Ground Truth vs Predicted\")\n",
        "plt.show()"
      ],
      "execution_count": 159,
      "outputs": [
        {
          "output_type": "display_data",
          "data": {
            "image/png": "[encoded data removed]",
            "text/plain": [
              "<Figure size 432x288 with 1 Axes>"
            ]
          },
          "metadata": {
            "tags": [],
            "needs_background": "light"
          }
        }
      ]
    },
    {
      "cell_type": "code",
      "metadata": {
        "id": "Abh0a4X5LUSy",
        "colab_type": "code",
        "colab": {
          "base_uri": "https://localhost:8080/",
          "height": 340
        },
        "outputId": "48fff360-155a-4bd9-a068-aadabefad1ad"
      },
      "source": [
        "### Hyperparameter tuning with GridSearchCV¶\n",
        "param_grid = {\"criterion\": [\"mse\", \"mae\"],\n",
        "              \"min_samples_split\": [10, 20, 40],\n",
        "              \"max_depth\": [2, 6, 8],\n",
        "              \"min_samples_leaf\": [20, 40, 100],\n",
        "              \"max_leaf_nodes\": [5, 20, 100],\n",
        "              }\n",
        "\n",
        "## Comment in order to publish in kaggle.\n",
        "\n",
        "grid_cv_dtm = GridSearchCV(model, param_grid, cv=5)\n",
        "\n",
        "grid_cv_dtm.fit(x_training_set,y_training_set)"
      ],
      "execution_count": 160,
      "outputs": [
        {
          "output_type": "execute_result",
          "data": {
            "text/plain": [
              "GridSearchCV(cv=5, error_score=nan,\n",
              "             estimator=DecisionTreeRegressor(ccp_alpha=0.0, criterion='mse',\n",
              "                                             max_depth=4, max_features=None,\n",
              "                                             max_leaf_nodes=10,\n",
              "                                             min_impurity_decrease=0.0,\n",
              "                                             min_impurity_split=None,\n",
              "                                             min_samples_leaf=1,\n",
              "                                             min_samples_split=5,\n",
              "                                             min_weight_fraction_leaf=0.0,\n",
              "                                             presort='deprecated',\n",
              "                                             random_state=None,\n",
              "                                             splitter='best'),\n",
              "             iid='deprecated', n_jobs=None,\n",
              "             param_grid={'criterion': ['mse', 'mae'], 'max_depth': [2, 6, 8],\n",
              "                         'max_leaf_nodes': [5, 20, 100],\n",
              "                         'min_samples_leaf': [20, 40, 100],\n",
              "                         'min_samples_split': [10, 20, 40]},\n",
              "             pre_dispatch='2*n_jobs', refit=True, return_train_score=False,\n",
              "             scoring=None, verbose=0)"
            ]
          },
          "metadata": {
            "tags": []
          },
          "execution_count": 160
        }
      ]
    },
    {
      "cell_type": "code",
      "metadata": {
        "id": "Ua1MIov9NBPP",
        "colab_type": "code",
        "colab": {
          "base_uri": "https://localhost:8080/",
          "height": 68
        },
        "outputId": "1a4408c5-ea27-4fa9-a28c-c4cbfc94e341"
      },
      "source": [
        "print(\"R-Squared::{}\".format(grid_cv_dtm.best_score_))\n",
        "print(\"Best Hyperparameters::\\n{}\".format(grid_cv_dtm.best_params_))"
      ],
      "execution_count": 161,
      "outputs": [
        {
          "output_type": "stream",
          "text": [
            "R-Squared::0.7438283733576683\n",
            "Best Hyperparameters::\n",
            "{'criterion': 'mse', 'max_depth': 6, 'max_leaf_nodes': 20, 'min_samples_leaf': 20, 'min_samples_split': 10}\n"
          ],
          "name": "stdout"
        }
      ]
    },
    {
      "cell_type": "code",
      "metadata": {
        "id": "nECX08XCNEOk",
        "colab_type": "code",
        "colab": {}
      },
      "source": [
        ""
      ],
      "execution_count": 0,
      "outputs": []
    },
    {
      "cell_type": "code",
      "metadata": {
        "id": "4i4SlLGWNEZH",
        "colab_type": "code",
        "colab": {
          "base_uri": "https://localhost:8080/",
          "height": 564
        },
        "outputId": "a1bf4a60-4838-4ba8-e977-a46b4a9d45a0"
      },
      "source": [
        "df = pd.DataFrame(data=grid_cv_dtm.cv_results_)\n",
        "df.head()"
      ],
      "execution_count": 162,
      "outputs": [
        {
          "output_type": "execute_result",
          "data": {
            "text/html": [
              "<div>\n",
              "<style scoped>\n",
              "    .dataframe tbody tr th:only-of-type {\n",
              "        vertical-align: middle;\n",
              "    }\n",
              "\n",
              "    .dataframe tbody tr th {\n",
              "        vertical-align: top;\n",
              "    }\n",
              "\n",
              "    .dataframe thead th {\n",
              "        text-align: right;\n",
              "    }\n",
              "</style>\n",
              "<table border=\"1\" class=\"dataframe\">\n",
              "  <thead>\n",
              "    <tr style=\"text-align: right;\">\n",
              "      <th></th>\n",
              "      <th>mean_fit_time</th>\n",
              "      <th>std_fit_time</th>\n",
              "      <th>mean_score_time</th>\n",
              "      <th>std_score_time</th>\n",
              "      <th>param_criterion</th>\n",
              "      <th>param_max_depth</th>\n",
              "      <th>param_max_leaf_nodes</th>\n",
              "      <th>param_min_samples_leaf</th>\n",
              "      <th>param_min_samples_split</th>\n",
              "      <th>params</th>\n",
              "      <th>split0_test_score</th>\n",
              "      <th>split1_test_score</th>\n",
              "      <th>split2_test_score</th>\n",
              "      <th>split3_test_score</th>\n",
              "      <th>split4_test_score</th>\n",
              "      <th>mean_test_score</th>\n",
              "      <th>std_test_score</th>\n",
              "      <th>rank_test_score</th>\n",
              "    </tr>\n",
              "  </thead>\n",
              "  <tbody>\n",
              "    <tr>\n",
              "      <th>0</th>\n",
              "      <td>0.003469</td>\n",
              "      <td>0.000929</td>\n",
              "      <td>0.001840</td>\n",
              "      <td>0.000582</td>\n",
              "      <td>mse</td>\n",
              "      <td>2</td>\n",
              "      <td>5</td>\n",
              "      <td>20</td>\n",
              "      <td>10</td>\n",
              "      <td>{'criterion': 'mse', 'max_depth': 2, 'max_leaf...</td>\n",
              "      <td>0.662116</td>\n",
              "      <td>0.666803</td>\n",
              "      <td>0.613794</td>\n",
              "      <td>0.68595</td>\n",
              "      <td>0.609099</td>\n",
              "      <td>0.647552</td>\n",
              "      <td>0.030579</td>\n",
              "      <td>71</td>\n",
              "    </tr>\n",
              "    <tr>\n",
              "      <th>1</th>\n",
              "      <td>0.003745</td>\n",
              "      <td>0.001332</td>\n",
              "      <td>0.001552</td>\n",
              "      <td>0.000281</td>\n",
              "      <td>mse</td>\n",
              "      <td>2</td>\n",
              "      <td>5</td>\n",
              "      <td>20</td>\n",
              "      <td>20</td>\n",
              "      <td>{'criterion': 'mse', 'max_depth': 2, 'max_leaf...</td>\n",
              "      <td>0.662116</td>\n",
              "      <td>0.666803</td>\n",
              "      <td>0.613794</td>\n",
              "      <td>0.68595</td>\n",
              "      <td>0.609099</td>\n",
              "      <td>0.647552</td>\n",
              "      <td>0.030579</td>\n",
              "      <td>64</td>\n",
              "    </tr>\n",
              "    <tr>\n",
              "      <th>2</th>\n",
              "      <td>0.002580</td>\n",
              "      <td>0.000237</td>\n",
              "      <td>0.001349</td>\n",
              "      <td>0.000138</td>\n",
              "      <td>mse</td>\n",
              "      <td>2</td>\n",
              "      <td>5</td>\n",
              "      <td>20</td>\n",
              "      <td>40</td>\n",
              "      <td>{'criterion': 'mse', 'max_depth': 2, 'max_leaf...</td>\n",
              "      <td>0.662116</td>\n",
              "      <td>0.666803</td>\n",
              "      <td>0.613794</td>\n",
              "      <td>0.68595</td>\n",
              "      <td>0.609099</td>\n",
              "      <td>0.647552</td>\n",
              "      <td>0.030579</td>\n",
              "      <td>71</td>\n",
              "    </tr>\n",
              "    <tr>\n",
              "      <th>3</th>\n",
              "      <td>0.002397</td>\n",
              "      <td>0.000039</td>\n",
              "      <td>0.001270</td>\n",
              "      <td>0.000058</td>\n",
              "      <td>mse</td>\n",
              "      <td>2</td>\n",
              "      <td>5</td>\n",
              "      <td>40</td>\n",
              "      <td>10</td>\n",
              "      <td>{'criterion': 'mse', 'max_depth': 2, 'max_leaf...</td>\n",
              "      <td>0.634153</td>\n",
              "      <td>0.606446</td>\n",
              "      <td>0.578146</td>\n",
              "      <td>0.68595</td>\n",
              "      <td>0.547363</td>\n",
              "      <td>0.610412</td>\n",
              "      <td>0.047543</td>\n",
              "      <td>93</td>\n",
              "    </tr>\n",
              "    <tr>\n",
              "      <th>4</th>\n",
              "      <td>0.002196</td>\n",
              "      <td>0.000144</td>\n",
              "      <td>0.001074</td>\n",
              "      <td>0.000015</td>\n",
              "      <td>mse</td>\n",
              "      <td>2</td>\n",
              "      <td>5</td>\n",
              "      <td>40</td>\n",
              "      <td>20</td>\n",
              "      <td>{'criterion': 'mse', 'max_depth': 2, 'max_leaf...</td>\n",
              "      <td>0.634153</td>\n",
              "      <td>0.606446</td>\n",
              "      <td>0.578146</td>\n",
              "      <td>0.68595</td>\n",
              "      <td>0.547363</td>\n",
              "      <td>0.610412</td>\n",
              "      <td>0.047543</td>\n",
              "      <td>91</td>\n",
              "    </tr>\n",
              "  </tbody>\n",
              "</table>\n",
              "</div>"
            ],
            "text/plain": [
              "   mean_fit_time  std_fit_time  ...  std_test_score  rank_test_score\n",
              "0       0.003469      0.000929  ...        0.030579               71\n",
              "1       0.003745      0.001332  ...        0.030579               64\n",
              "2       0.002580      0.000237  ...        0.030579               71\n",
              "3       0.002397      0.000039  ...        0.047543               93\n",
              "4       0.002196      0.000144  ...        0.047543               91\n",
              "\n",
              "[5 rows x 18 columns]"
            ]
          },
          "metadata": {
            "tags": []
          },
          "execution_count": 162
        }
      ]
    },
    {
      "cell_type": "code",
      "metadata": {
        "id": "yOH8belmMMHB",
        "colab_type": "code",
        "colab": {
          "base_uri": "https://localhost:8080/",
          "height": 313
        },
        "outputId": "3add79bc-4c29-4ff3-d1f9-a1a5e4fbf83f"
      },
      "source": [
        "\n",
        "fig,ax = plt.subplots()\n",
        "sns.pointplot(data=df[['mean_test_score',\n",
        "                           'param_max_leaf_nodes',\n",
        "                           'param_max_depth']],\n",
        "             y='mean_test_score',x='param_max_depth',\n",
        "             hue='param_max_leaf_nodes',ax=ax)\n",
        "ax.set(title=\"Effect of Depth and Leaf Nodes on Model Performance\")"
      ],
      "execution_count": 163,
      "outputs": [
        {
          "output_type": "execute_result",
          "data": {
            "text/plain": [
              "[Text(0.5, 1.0, 'Effect of Depth and Leaf Nodes on Model Performance')]"
            ]
          },
          "metadata": {
            "tags": []
          },
          "execution_count": 163
        },
        {
          "output_type": "display_data",
          "data": {
            "image/png": "[encoded data removed]",
            "text/plain": [
              "<Figure size 432x288 with 1 Axes>"
            ]
          },
          "metadata": {
            "tags": [],
            "needs_background": "light"
          }
        }
      ]
    },
    {
      "cell_type": "code",
      "metadata": {
        "id": "NRPR2TzQMtC3",
        "colab_type": "code",
        "colab": {
          "base_uri": "https://localhost:8080/",
          "height": 350
        },
        "outputId": "60fd9904-b479-4b6d-c5a3-010524f9ec6c"
      },
      "source": [
        "# Evaluating training model\n",
        "predicted = grid_cv_dtm.best_estimator_.predict(X)\n",
        "residuals = y.flatten()-predicted\n",
        "\n",
        "fig, ax = plt.subplots()\n",
        "ax.scatter(y.flatten(), residuals)\n",
        "ax.axhline(lw=2,color='black')\n",
        "ax.set_xlabel('Observed')\n",
        "ax.set_ylabel('Residual')\n",
        "plt.show()"
      ],
      "execution_count": 164,
      "outputs": [
        {
          "output_type": "error",
          "ename": "AttributeError",
          "evalue": "ignored",
          "traceback": [
            "\u001b[0;31m---------------------------------------------------------------------------\u001b[0m",
            "\u001b[0;31mAttributeError\u001b[0m                            Traceback (most recent call last)",
            "\u001b[0;32m<ipython-input-164-4f26a9c25401>\u001b[0m in \u001b[0;36m<module>\u001b[0;34m()\u001b[0m\n\u001b[1;32m      1\u001b[0m \u001b[0mpredicted\u001b[0m \u001b[0;34m=\u001b[0m \u001b[0mgrid_cv_dtm\u001b[0m\u001b[0;34m.\u001b[0m\u001b[0mbest_estimator_\u001b[0m\u001b[0;34m.\u001b[0m\u001b[0mpredict\u001b[0m\u001b[0;34m(\u001b[0m\u001b[0mX\u001b[0m\u001b[0;34m)\u001b[0m\u001b[0;34m\u001b[0m\u001b[0;34m\u001b[0m\u001b[0m\n\u001b[0;32m----> 2\u001b[0;31m \u001b[0mresiduals\u001b[0m \u001b[0;34m=\u001b[0m \u001b[0my\u001b[0m\u001b[0;34m.\u001b[0m\u001b[0mflatten\u001b[0m\u001b[0;34m(\u001b[0m\u001b[0;34m)\u001b[0m\u001b[0;34m-\u001b[0m\u001b[0mpredicted\u001b[0m\u001b[0;34m\u001b[0m\u001b[0;34m\u001b[0m\u001b[0m\n\u001b[0m\u001b[1;32m      3\u001b[0m \u001b[0;34m\u001b[0m\u001b[0m\n\u001b[1;32m      4\u001b[0m \u001b[0mfig\u001b[0m\u001b[0;34m,\u001b[0m \u001b[0max\u001b[0m \u001b[0;34m=\u001b[0m \u001b[0mplt\u001b[0m\u001b[0;34m.\u001b[0m\u001b[0msubplots\u001b[0m\u001b[0;34m(\u001b[0m\u001b[0;34m)\u001b[0m\u001b[0;34m\u001b[0m\u001b[0;34m\u001b[0m\u001b[0m\n\u001b[1;32m      5\u001b[0m \u001b[0max\u001b[0m\u001b[0;34m.\u001b[0m\u001b[0mscatter\u001b[0m\u001b[0;34m(\u001b[0m\u001b[0my\u001b[0m\u001b[0;34m.\u001b[0m\u001b[0mflatten\u001b[0m\u001b[0;34m(\u001b[0m\u001b[0;34m)\u001b[0m\u001b[0;34m,\u001b[0m \u001b[0mresiduals\u001b[0m\u001b[0;34m)\u001b[0m\u001b[0;34m\u001b[0m\u001b[0;34m\u001b[0m\u001b[0m\n",
            "\u001b[0;32m/usr/local/lib/python3.6/dist-packages/pandas/core/generic.py\u001b[0m in \u001b[0;36m__getattr__\u001b[0;34m(self, name)\u001b[0m\n\u001b[1;32m   5272\u001b[0m             \u001b[0;32mif\u001b[0m \u001b[0mself\u001b[0m\u001b[0;34m.\u001b[0m\u001b[0m_info_axis\u001b[0m\u001b[0;34m.\u001b[0m\u001b[0m_can_hold_identifiers_and_holds_name\u001b[0m\u001b[0;34m(\u001b[0m\u001b[0mname\u001b[0m\u001b[0;34m)\u001b[0m\u001b[0;34m:\u001b[0m\u001b[0;34m\u001b[0m\u001b[0;34m\u001b[0m\u001b[0m\n\u001b[1;32m   5273\u001b[0m                 \u001b[0;32mreturn\u001b[0m \u001b[0mself\u001b[0m\u001b[0;34m[\u001b[0m\u001b[0mname\u001b[0m\u001b[0;34m]\u001b[0m\u001b[0;34m\u001b[0m\u001b[0;34m\u001b[0m\u001b[0m\n\u001b[0;32m-> 5274\u001b[0;31m             \u001b[0;32mreturn\u001b[0m \u001b[0mobject\u001b[0m\u001b[0;34m.\u001b[0m\u001b[0m__getattribute__\u001b[0m\u001b[0;34m(\u001b[0m\u001b[0mself\u001b[0m\u001b[0;34m,\u001b[0m \u001b[0mname\u001b[0m\u001b[0;34m)\u001b[0m\u001b[0;34m\u001b[0m\u001b[0;34m\u001b[0m\u001b[0m\n\u001b[0m\u001b[1;32m   5275\u001b[0m \u001b[0;34m\u001b[0m\u001b[0m\n\u001b[1;32m   5276\u001b[0m     \u001b[0;32mdef\u001b[0m \u001b[0m__setattr__\u001b[0m\u001b[0;34m(\u001b[0m\u001b[0mself\u001b[0m\u001b[0;34m,\u001b[0m \u001b[0mname\u001b[0m\u001b[0;34m:\u001b[0m \u001b[0mstr\u001b[0m\u001b[0;34m,\u001b[0m \u001b[0mvalue\u001b[0m\u001b[0;34m)\u001b[0m \u001b[0;34m->\u001b[0m \u001b[0;32mNone\u001b[0m\u001b[0;34m:\u001b[0m\u001b[0;34m\u001b[0m\u001b[0;34m\u001b[0m\u001b[0m\n",
            "\u001b[0;31mAttributeError\u001b[0m: 'Series' object has no attribute 'flatten'"
          ]
        }
      ]
    },
    {
      "cell_type": "code",
      "metadata": {
        "id": "v8Ih_Wq5NZ7f",
        "colab_type": "code",
        "colab": {}
      },
      "source": [
        "model.get_depth()"
      ],
      "execution_count": 0,
      "outputs": []
    },
    {
      "cell_type": "code",
      "metadata": {
        "id": "9bznzBAyc960",
        "colab_type": "code",
        "colab": {}
      },
      "source": [
        ""
      ],
      "execution_count": 0,
      "outputs": []
    },
    {
      "cell_type": "code",
      "metadata": {
        "id": "VVLwG8i-dwfL",
        "colab_type": "code",
        "colab": {}
      },
      "source": [
        "import math"
      ],
      "execution_count": 0,
      "outputs": []
    },
    {
      "cell_type": "code",
      "metadata": {
        "id": "hbNtL6qIfWGz",
        "colab_type": "code",
        "colab": {
          "base_uri": "https://localhost:8080/",
          "height": 204
        },
        "outputId": "022b9e16-7aa9-48b1-fa14-d46f73140f41"
      },
      "source": [
        "dataset=pd.read_csv(\"weather_dataset.csv\")\n",
        "dataset.head()"
      ],
      "execution_count": 167,
      "outputs": [
        {
          "output_type": "execute_result",
          "data": {
            "text/html": [
              "<div>\n",
              "<style scoped>\n",
              "    .dataframe tbody tr th:only-of-type {\n",
              "        vertical-align: middle;\n",
              "    }\n",
              "\n",
              "    .dataframe tbody tr th {\n",
              "        vertical-align: top;\n",
              "    }\n",
              "\n",
              "    .dataframe thead th {\n",
              "        text-align: right;\n",
              "    }\n",
              "</style>\n",
              "<table border=\"1\" class=\"dataframe\">\n",
              "  <thead>\n",
              "    <tr style=\"text-align: right;\">\n",
              "      <th></th>\n",
              "      <th>Day</th>\n",
              "      <th>Outlook</th>\n",
              "      <th>Temp.</th>\n",
              "      <th>Humidity</th>\n",
              "      <th>Wind</th>\n",
              "      <th>Decision</th>\n",
              "    </tr>\n",
              "  </thead>\n",
              "  <tbody>\n",
              "    <tr>\n",
              "      <th>0</th>\n",
              "      <td>1</td>\n",
              "      <td>Sunny</td>\n",
              "      <td>Mild</td>\n",
              "      <td>High</td>\n",
              "      <td>False</td>\n",
              "      <td>45</td>\n",
              "    </tr>\n",
              "    <tr>\n",
              "      <th>1</th>\n",
              "      <td>2</td>\n",
              "      <td>Sunny</td>\n",
              "      <td>cool</td>\n",
              "      <td>Normal</td>\n",
              "      <td>False</td>\n",
              "      <td>52</td>\n",
              "    </tr>\n",
              "    <tr>\n",
              "      <th>2</th>\n",
              "      <td>3</td>\n",
              "      <td>Sunny</td>\n",
              "      <td>cool</td>\n",
              "      <td>Normal</td>\n",
              "      <td>True</td>\n",
              "      <td>23</td>\n",
              "    </tr>\n",
              "    <tr>\n",
              "      <th>3</th>\n",
              "      <td>4</td>\n",
              "      <td>Sunny</td>\n",
              "      <td>Mild</td>\n",
              "      <td>Normal</td>\n",
              "      <td>False</td>\n",
              "      <td>46</td>\n",
              "    </tr>\n",
              "    <tr>\n",
              "      <th>4</th>\n",
              "      <td>5</td>\n",
              "      <td>Sunny</td>\n",
              "      <td>Mild</td>\n",
              "      <td>High</td>\n",
              "      <td>True</td>\n",
              "      <td>30</td>\n",
              "    </tr>\n",
              "  </tbody>\n",
              "</table>\n",
              "</div>"
            ],
            "text/plain": [
              "   Day Outlook Temp. Humidity   Wind  Decision\n",
              "0    1   Sunny  Mild     High  False        45\n",
              "1    2   Sunny  cool   Normal  False        52\n",
              "2    3   Sunny  cool   Normal   True        23\n",
              "3    4   Sunny  Mild   Normal  False        46\n",
              "4    5   Sunny  Mild     High   True        30"
            ]
          },
          "metadata": {
            "tags": []
          },
          "execution_count": 167
        }
      ]
    },
    {
      "cell_type": "code",
      "metadata": {
        "id": "XwIEDHM2dwij",
        "colab_type": "code",
        "colab": {
          "base_uri": "https://localhost:8080/",
          "height": 34
        },
        "outputId": "551fe647-a6e5-4bb3-ef05-2982c302c438"
      },
      "source": [
        "### chandra's code for decision tree regression for calculating total standard devation all categorical variables\n",
        "\n",
        "def calc_Total_SD(dataframe,targetcol):\n",
        "  avg=dataframe[targetcol].mean()\n",
        "  count=len(dataframe[targetcol])\n",
        " \n",
        "  dataframe[\"squared\"]= avg - dataframe[targetcol]\n",
        "  dataframe[\"squared\"]= (dataframe[\"squared\"]**2/count)\n",
        "  total_sd=dataframe[\"squared\"].sum()\n",
        "  total_sd=round(math.sqrt(total_sd),4)\n",
        "  return total_sd\n",
        "\n",
        "\n",
        "totla_sd=calc_Total_SD(dataset,\"Decision\")\n",
        "totla_sd"
      ],
      "execution_count": 223,
      "outputs": [
        {
          "output_type": "execute_result",
          "data": {
            "text/plain": [
              "9.3211"
            ]
          },
          "metadata": {
            "tags": []
          },
          "execution_count": 223
        }
      ]
    },
    {
      "cell_type": "code",
      "metadata": {
        "id": "Y-WVyI9Tfh68",
        "colab_type": "code",
        "colab": {
          "base_uri": "https://localhost:8080/",
          "height": 224
        },
        "outputId": "31eb0be3-6468-48d1-c6cd-3866670e9799"
      },
      "source": [
        "### chandra's code for decision tree regression for calculating total standard devation on one feature\n",
        "\n",
        "features_sd=[]\n",
        "def cal_sd_single_feature(dataframe,colnames,targetcol):\n",
        "\n",
        "  \n",
        "  for cols in colnames:\n",
        "    for col in dataframe[cols].unique():\n",
        "        total=dataframe[targetcol].count()\n",
        "        avg=dataframe[targetcol][dataframe[cols]==col].mean()\n",
        "        count=len(dataframe[targetcol][dataframe[cols]==col])\n",
        "        dataframe[\"squared\"]= avg - dataframe[targetcol][dataframe[cols]==col]\n",
        "        dataframe[\"squared\"]= (dataframe[\"squared\"]**2/count)\n",
        "        feature_dev=dataframe[\"squared\"].sum()\n",
        "        feature_dev=round(math.sqrt(feature_dev),4)\n",
        "        \n",
        "        sd=(count/total*feature_dev)\n",
        "        print(cols,\"-\",col,\"-\",round(avg,4),\"-\",count,\"-\",total,\"-\",feature_dev,\"-\",round(sd,4))\n",
        "        features_sd.append(sd)\n",
        "        \n",
        "        \n",
        "             \n",
        "\n",
        "      \n",
        "     \n",
        "\n",
        "cal_sd_single_feature(dataset,[\"Outlook\",\"Temp.\",\"Humidity\",\"Wind\"],\"Decision\")\n",
        "print(features_sd)\n"
      ],
      "execution_count": 224,
      "outputs": [
        {
          "output_type": "stream",
          "text": [
            "Outlook - Sunny - 39.2 - 5 - 14 - 10.8701 - 3.8822\n",
            "Outlook - Overcast - 46.25 - 4 - 14 - 3.4911 - 0.9975\n",
            "Outlook - Rainy - 35.2 - 5 - 14 - 7.782 - 2.7793\n",
            "Temp. - Mild - 42.6667 - 6 - 14 - 7.6522 - 3.2795\n",
            "Temp. - cool - 39.0 - 4 - 14 - 10.5119 - 3.0034\n",
            "Temp. - Hot - 36.25 - 4 - 14 - 8.9547 - 2.5585\n",
            "Humidity - High - 37.5714 - 7 - 14 - 9.3634 - 4.6817\n",
            "Humidity - Normal - 42.0 - 7 - 14 - 8.7342 - 4.3671\n",
            "Wind - False - 41.375 - 8 - 14 - 7.873 - 4.4989\n",
            "Wind - True - 37.6667 - 6 - 14 - 10.5935 - 4.5401\n",
            "[3.8821785714285717, 0.9974571428571428, 2.7792857142857144, 3.2795142857142854, 3.0034, 2.5584857142857143, 4.6817, 4.3671, 4.498857142857143, 4.540071428571428]\n"
          ],
          "name": "stdout"
        }
      ]
    },
    {
      "cell_type": "code",
      "metadata": {
        "id": "pO4Cgfoq9ptU",
        "colab_type": "code",
        "colab": {
          "base_uri": "https://localhost:8080/",
          "height": 374
        },
        "outputId": "678c60b2-2990-4f9a-9212-4794e3e1779f"
      },
      "source": [
        "## chandra's code for decision tree regression for calculating total standard devation on one feature\n",
        "\n",
        "features_sd=[]\n",
        "def cal_sd_single_feature(dataframe,colnames,targetcol):\n",
        "\n",
        "  \n",
        "  for cols in colnames:\n",
        "    local_sd=0\n",
        "    for col in dataframe[cols].unique():\n",
        "        total=dataframe[targetcol].count()\n",
        "        avg=dataframe[targetcol][dataframe[cols]==col].mean()\n",
        "        count=len(dataframe[targetcol][dataframe[cols]==col])\n",
        "        dataframe[\"squared\"]= avg - dataframe[targetcol][dataframe[cols]==col]\n",
        "        dataframe[\"squared\"]= (dataframe[\"squared\"]**2/count)\n",
        "        feature_dev=dataframe[\"squared\"].sum()\n",
        "        feature_dev=round(math.sqrt(feature_dev),2)\n",
        "        \n",
        "        sd=(count/total*feature_dev)\n",
        "        local_sd=round(local_sd+sd,2)\n",
        "        \n",
        "        print(\"local sd is\",local_sd)\n",
        "        print(cols,\"-\",col,\"-\",round(avg,2),\"-\",count,\"-\",total,\"-\",feature_dev,\"-\",round(sd,2),totla_sd)\n",
        "    min_variance=round(totla_sd-local_sd,2)\n",
        "    features_sd.append(min_variance)\n",
        "        \n",
        "        \n",
        "             \n",
        "cal_sd_single_feature(dataset,[\"Outlook\",\"Temp.\",\"Humidity\",\"Wind\"],\"Decision\")\n",
        "print(features_sd)\n",
        "      "
      ],
      "execution_count": 231,
      "outputs": [
        {
          "output_type": "stream",
          "text": [
            "local sd is 3.88\n",
            "Outlook - Sunny - 39.2 - 5 - 14 - 10.87 - 3.88 9.3211\n",
            "local sd is 4.88\n",
            "Outlook - Overcast - 46.25 - 4 - 14 - 3.49 - 1.0 9.3211\n",
            "local sd is 7.66\n",
            "Outlook - Rainy - 35.2 - 5 - 14 - 7.78 - 2.78 9.3211\n",
            "local sd is 3.28\n",
            "Temp. - Mild - 42.67 - 6 - 14 - 7.65 - 3.28 9.3211\n",
            "local sd is 6.28\n",
            "Temp. - cool - 39.0 - 4 - 14 - 10.51 - 3.0 9.3211\n",
            "local sd is 8.84\n",
            "Temp. - Hot - 36.25 - 4 - 14 - 8.95 - 2.56 9.3211\n",
            "local sd is 4.68\n",
            "Humidity - High - 37.57 - 7 - 14 - 9.36 - 4.68 9.3211\n",
            "local sd is 9.04\n",
            "Humidity - Normal - 42.0 - 7 - 14 - 8.73 - 4.36 9.3211\n",
            "local sd is 4.5\n",
            "Wind - False - 41.38 - 8 - 14 - 7.87 - 4.5 9.3211\n",
            "local sd is 9.04\n",
            "Wind - True - 37.67 - 6 - 14 - 10.59 - 4.54 9.3211\n",
            "[1.66, 0.48, 0.28, 0.28]\n"
          ],
          "name": "stdout"
        }
      ]
    },
    {
      "cell_type": "code",
      "metadata": {
        "id": "del45zMAfpK9",
        "colab_type": "code",
        "colab": {
          "base_uri": "https://localhost:8080/",
          "height": 129
        },
        "outputId": "fa5964eb-536b-4e2c-82d5-8c875adaa6f6"
      },
      "source": [
        "csvr cxzdataset[\"Temp.\"].unique()"
      ],
      "execution_count": 191,
      "outputs": [
        {
          "output_type": "error",
          "ename": "SyntaxError",
          "evalue": "ignored",
          "traceback": [
            "\u001b[0;36m  File \u001b[0;32m\"<ipython-input-191-c58a9fbcd0dd>\"\u001b[0;36m, line \u001b[0;32m1\u001b[0m\n\u001b[0;31m    csvr cxzdataset[\"Temp.\"].unique()\u001b[0m\n\u001b[0m                  ^\u001b[0m\n\u001b[0;31mSyntaxError\u001b[0m\u001b[0;31m:\u001b[0m invalid syntax\n"
          ]
        }
      ]
    },
    {
      "cell_type": "code",
      "metadata": {
        "id": "1RmgKUeHircR",
        "colab_type": "code",
        "colab": {}
      },
      "source": [
        "\n",
        "dataset.Decision[dataset.Humidity==\"High\"].mean()"
      ],
      "execution_count": 0,
      "outputs": []
    },
    {
      "cell_type": "code",
      "metadata": {
        "id": "XkmUlTDLkDMW",
        "colab_type": "code",
        "colab": {
          "base_uri": "https://localhost:8080/",
          "height": 272
        },
        "outputId": "edb8508e-0416-4ad4-cd35-6103ea22a93e"
      },
      "source": [
        "dataset[\"Decision\"]"
      ],
      "execution_count": 111,
      "outputs": [
        {
          "output_type": "execute_result",
          "data": {
            "text/plain": [
              "0     45\n",
              "1     52\n",
              "2     23\n",
              "3     46\n",
              "4     30\n",
              "5     46\n",
              "6     43\n",
              "7     52\n",
              "8     44\n",
              "9     25\n",
              "10    30\n",
              "11    35\n",
              "12    38\n",
              "13    48\n",
              "Name: Decision, dtype: int64"
            ]
          },
          "metadata": {
            "tags": []
          },
          "execution_count": 111
        }
      ]
    },
    {
      "cell_type": "code",
      "metadata": {
        "id": "PbHdAC_imj8I",
        "colab_type": "code",
        "colab": {
          "base_uri": "https://localhost:8080/",
          "height": 272
        },
        "outputId": "ae9e5fce-901c-43b6-8a67-ec0e332c0ab8"
      },
      "source": [
        "dataset.Decision"
      ],
      "execution_count": 148,
      "outputs": [
        {
          "output_type": "execute_result",
          "data": {
            "text/plain": [
              "0     45\n",
              "1     52\n",
              "2     23\n",
              "3     46\n",
              "4     30\n",
              "5     46\n",
              "6     43\n",
              "7     52\n",
              "8     44\n",
              "9     25\n",
              "10    30\n",
              "11    35\n",
              "12    38\n",
              "13    48\n",
              "Name: Decision, dtype: int64"
            ]
          },
          "metadata": {
            "tags": []
          },
          "execution_count": 148
        }
      ]
    },
    {
      "cell_type": "code",
      "metadata": {
        "id": "NgukOsHi1Ryu",
        "colab_type": "code",
        "colab": {}
      },
      "source": [
        ""
      ],
      "execution_count": 0,
      "outputs": []
    }
  ]
}